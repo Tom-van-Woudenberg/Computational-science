{
 "cells": [
  {
   "cell_type": "markdown",
   "metadata": {
    "deletable": false,
    "editable": false
   },
   "source": [
    "# Random numbers\n",
    "\n",
    "In this lecture, you will implement random numbers in Python and learn how to make computations with them. First we characterize the statistical properties of random numbers by calculating the mean and standard deviation. Second, we perform numerical integration with random numbers. \n",
    "\n",
    "Despite the fact that random numbers are not well defined, they vary between realizations, you can make calculations with them just as 'exact' as with normal numbers.\n",
    "\n",
    "**Learning objectives:** After finishing this lecture, you should be able to:\n",
    "\n",
    "1. Make random numbers and know how to analyze them\n",
    "2. Implement Monte Carlo integration"
   ]
  },
  {
   "cell_type": "code",
   "execution_count": null,
   "metadata": {},
   "outputs": [],
   "source": [
    "# Initialisation code for the notebook\n",
    "import numpy as np\n",
    "import matplotlib.pyplot as plt\n",
    "import sys\n",
    "sys.path.append('resource/asnlib/public/')\n",
    "sys.path.append('../answer_checking/') \n",
    "from validate_answers import *"
   ]
  },
  {
   "cell_type": "markdown",
   "metadata": {
    "deletable": false,
    "editable": false
   },
   "source": [
    "## Random numbers\n",
    "\n",
    "A computer can be of good aid to calculate a variety of random numbers for you. You can generate them as single numbers, as arrays, and with different distributions. Here we will generate random numbers for a few of the most common distributions. Numpy provides a variety of random numbers with different <a href=\"https://docs.scipy.org/doc/numpy-1.15.1/reference/routines.random.html\">distributions</a>.\n",
    "\n",
    "### The uniform distribution\n",
    "\n",
    "Random numbers generated with the <a href=\"https://en.wikipedia.org/wiki/Uniform_distribution_(continuous)\">uniform distribution</a> have an equal probability to fall within an interval defined by the bounds $[a, b]$. The probability density function for the uniform distribution is\n",
    "\n",
    "\\begin{equation}\n",
    "p(x)=\\left\\{ \\begin{array}{ll}\\frac{1}{b-a} & \\, \\, \\text{for} \\, a \\leq x \\leq b\\\\0 & \\, \\, \\text{else} \\end{array}\\right. \\, .\n",
    "\\end{equation}\n",
    "\n",
    "The uniform distribution has a mean \n",
    "\\begin{equation}\n",
    "\\mu = \\frac{1}{2}(a+b)\n",
    "\\end{equation}\n",
    "and a variance\n",
    "\\begin{equation}\n",
    "\\sigma^2 = \\frac{1}{12}(b-a)^2\n",
    "\\end{equation}\n",
    "\n",
    "\n",
    "**Exercise 1**\n",
    "\n",
    "Create a uniformly distributed random variable between bounds 5 and 8 and draw $N$=100 samples from it, as an array. \n",
    "* Determine the sample mean of the generated samples\n",
    "* Determine the variance. \n",
    "* Check that the mean and variance numbers approximately match the theoretical values as shown above, increase $N$ to see convergence to the theoretical values. \n",
    "\n",
    "Note that you can generate the uniformly distributed random numbers in two ways: from the `uniform` function and from the standard `rand` function (with uniform distribution between 0 and 1). The latter has to be shifted and scaled to match the interval $a, b$. Try them both!"
   ]
  },
  {
   "cell_type": "code",
   "execution_count": null,
   "metadata": {},
   "outputs": [],
   "source": [
    "###\n",
    "### Your code here\n",
    "###\n"
   ]
  },
  {
   "cell_type": "markdown",
   "metadata": {
    "deletable": false,
    "editable": false
   },
   "source": [
    "### Gaussian random numbers\n",
    "\n",
    "The Gaussian distribution, or <a href=\"https://en.wikipedia.org/wiki/Normal_distribution\">normal distribution</a>, is a distribution that occurs a lot in physics. This is due to the fact that many physical observables are the result of a sum of a large number of random steps. In the limit of infinitely many of these steps, the distribution of this sum converges to the Gaussian distribution. The Gaussian probability density function is\n",
    "\n",
    "\\begin{equation}\n",
    "p(x)=\\frac{1}{\\sqrt{2 \\pi \\sigma^2}} \\text{e}^{-(x-\\mu)^2/2\\sigma^2}\n",
    "\\end{equation}\n",
    "\n",
    "with $\\mu$ the mean and $\\sigma^2$ the variance.\n",
    "\n",
    "**Exercise 2**\n",
    "\n",
    "Create a Gaussian distributed random variable with mean 10 and standard deviation of 7 and take $N$=100 samples from it, as an array.\n",
    "* Determine the sample mean of the generated samples\n",
    "* Determine the variance. \n",
    "* Check that the mean and variance numbers match the theoretical values , increase $N$ to see convergence to the theoretical values. \n",
    "\n",
    "Note that you can generate the Gaussian distributed random numbers with mean $\\mu$ and variance $\\sigma^2$ in two ways: from the `normal` function and from the standard normal distribution`randn` function (with zero mean and variance 1). The latter has to be shifted and scaled to match the arbitrary Gaussian. Try them both!"
   ]
  },
  {
   "cell_type": "code",
   "execution_count": null,
   "metadata": {},
   "outputs": [],
   "source": [
    "###\n",
    "### Your code here\n",
    "###\n"
   ]
  },
  {
   "cell_type": "markdown",
   "metadata": {
    "deletable": false,
    "editable": false
   },
   "source": [
    "A simple example of the use of random numbers is in the calculation of $\\pi$. The method is quite simple. You generate a lot of points in a known area, in this case a square, that encloses the object for which you want to know the area, in this case the unit circle. Next, you count the number of points inside the object and divide that by the total number of points you generated. The ratio is an estimate of the fraction of area that the object covers. Finally, you multiply the ratio by the area of the known area around the object and you have an estimate for the to be integrated area. Since the area of a circle is $\\pi r^2$, the estimated area is $\\pi$. \n",
    "\n",
    "**Exercise 3**\n",
    "\n",
    "Generate $N=100$ uniformly distributed random numbers between -1 and 1 for the $x$-coordinates. Do the same for the $y$-coordinates.<br>\n",
    "* Plot the random numbers in the $x$-$y$ plane, add a circle according to the given code\n",
    "* Make a for loop and iterate over all $N$ points\n",
    "* Check for every point whether it is within the unit circle, if so add 1 to a variable that counts the number of points in the unit circle\n",
    "* Calculate $\\pi$ by dividing the number of points inside the circle by $N$ and multiply by the area of the square surrounding the unit circle"
   ]
  },
  {
   "cell_type": "code",
   "execution_count": null,
   "metadata": {},
   "outputs": [],
   "source": [
    "# Plot circle\n",
    "\n",
    "angle = np.linspace(0, 2*np.pi, 100)\n",
    "plt.plot(np.cos(angle), np.sin(angle), '--r')\n",
    "\n",
    "###\n",
    "### Your code here\n",
    "###\n"
   ]
  },
  {
   "cell_type": "markdown",
   "metadata": {
    "deletable": false,
    "editable": false
   },
   "source": [
    "### How random are random numbers?\n",
    "\n",
    "True random numbers, like the ones you use in statistics, are challenging to obtain. For example, something like a perfect unbiased dice does not exist. Also on a computer generated random numbers are not purely random since they are created by deterministic algorithms. Hence, a computer generates pseudorandom numbers that for the majority of problems are sufficiently random. \n",
    "\n",
    "A common method to generate random numbers is through the use of the equation\n",
    "\n",
    "\\begin{equation}\n",
    "x_{n+1}=(a x_n + b) \\, \\text{mod }m\n",
    "\\end{equation}\n",
    "\n",
    "where $a$, $b$, and $m$ are integer parameters and $x$ is an integer random number. Starting with an initial number $x_n$ the equation makes new numbers that are seemingly random (for the proper choice of $a$, $b$ and $m$). Obviously, for fixed $x_n$ and $a$, $b$, and $m$ the generated numbers are random but always the same sequence. The number $x_n$ is called the seed, and when calling the random number generator with a fixed seed the random numbers are always the same, if not then the random number generator generates a new (sequence of) random numbers for every time you call the function.\n",
    "\n",
    "Seeding can be performed by calling the function `seed()` from the numpy random library with in between the `()` an fixed number variable. Seeding can be handy for debugging and to compare your code to the code of somebody else.\n",
    "\n",
    "**Exercise 4**\n",
    "\n",
    "Use a fixed seed for exercise 2 and 3 check that you get the same numbers every time you run your code."
   ]
  },
  {
   "cell_type": "markdown",
   "metadata": {
    "deletable": false,
    "editable": false
   },
   "source": [
    "## Monte Carlo integration\n",
    "\n",
    "Monte Carlo integration not only can be used to estimate surface areas or volumes, it can be used to integrate any function in any multi-dimensional space. Note that in principle the dimension of the integrated volume can be greater than or equal to 1.\n",
    "\n",
    "Assume that we want to integrate over a (hyper-) volume $S$. The way this works is through the mean value method by \n",
    "\n",
    "\\begin{equation}\\label{eq:mcint}\n",
    "I=\\frac{V}{N}\\sum_{i=1}^{N} f({\\vec{r}_i}) \\chi({\\vec{r}_i}) \\, .\n",
    "\\end{equation}\n",
    "\n",
    "Now, have a good look at this formula.\n",
    "* $V$ represents a (hyper-) volume that encloses the to be integrated volume $S$, $V$ is usually a rectangle or (hyper-) cube. \n",
    "* $N$ is the number of random points in $V$\n",
    "* $f$ the function to be integrated. If you just want to calculate an surface area or (hyper-) volume $f$=1\n",
    "* The function $\\chi$ is an index function that is 1 if $\\vec{r}_i$ is inside $S$ and 0 if $\\vec{r}_i$ is outside of $S$. \n",
    "\n",
    "So if $f$=1, the (hyper-) volume is just the sum of the number of points in $S$ divided by the total number of points in $V$. For example, for the case of calculating $pi$, the 'volume' $V$ is the square area surrounding the circle $S$. The value of $pi$ is then calculated by summing up all numbers in the circle and dividing them by the area of the square. If we want to integrate the function $f$, we calculate $f(\\vec{r}_i)$ for all random points. Multiplication with $\\chi$ makes sure that we do not integrate the function outside $f$ of $S$.\n",
    "\n",
    "So in general, we have to calculate $f(\\vec{r}_i)$ and $\\chi({\\vec{r}_i})$ as fast as possible. Next we multiply them and sum them. A quick way to do this is is by using array and Boolean indexing, a nice feature of many programming languages. Try it first for yourself.\n",
    "\n",
    "### Boolean or “mask” index arrays\n",
    "\n",
    "<!-- https://www.pythonlikeyoumeanit.com/Module3_IntroducingNumpy/AdvancedIndexing.html#Boolean-Array-Indexing  -->\n",
    "\n",
    "Integer-type arrays can be used for advanced indexing to access the contents of an array. Consider the simple example below"
   ]
  },
  {
   "cell_type": "code",
   "execution_count": null,
   "metadata": {},
   "outputs": [],
   "source": [
    "y = np.array([ 0, 2, 4, 8, 16, 32])\n",
    "index = np.array([2, 3, 4])\n",
    "print(y[index])"
   ]
  },
  {
   "cell_type": "markdown",
   "metadata": {
    "deletable": false,
    "editable": false
   },
   "source": [
    "Now if we would like to check for an array whether a condition is met for all elements, it would be nice to make an array with the indices where this statement is true. You can do this by using Boolean variables. \n",
    "\n",
    "Booleans are variables that have two values true or false. You can use Python to check whether a statement is true or false and Python then generates a boolean variable. For example, for a variable `a`"
   ]
  },
  {
   "cell_type": "code",
   "execution_count": null,
   "metadata": {},
   "outputs": [],
   "source": [
    "a=2>3\n",
    "print(a)"
   ]
  },
  {
   "cell_type": "markdown",
   "metadata": {
    "deletable": false,
    "editable": false
   },
   "source": [
    "results in `a` being of type `bool` and having a value of `False`. Boolean indexing works in the following way: if `x` is an and `y` is a boolean-value array of the same shape as `x`. Then `x[y]` returns an array that is formed by from `x` and contains the values where `y` is `True`. Try it out for yourself.\n",
    "\n",
    "Generate an array `x` of 100 random numbers between 0 and 10 and count (without using a for loop) how many numbers are larger than 5.<br>\n",
    "\n",
    "Method 1:\n",
    "* Make a Boolean variable `y` for the condition `x>5`\n",
    "* Print the variable `y`, the values are Boolean, i.e.,`True` or `False`\n",
    "* Extract from array `x` the elements that match the condition with `x[y]`\n",
    "* Calculate the length of the extracted array"
   ]
  },
  {
   "cell_type": "code",
   "execution_count": null,
   "metadata": {},
   "outputs": [],
   "source": [
    "###\n",
    "### Your code here\n",
    "###\n"
   ]
  },
  {
   "cell_type": "markdown",
   "metadata": {
    "deletable": false,
    "editable": false
   },
   "source": [
    "Just as you can extract a series of numbers from an array with advanced indexing Python recognizes that if you use a Boolean array you to convert it to an array with values equal to the locations that are True.\n",
    "\n",
    "Method 2\n",
    "* Make a Boolean variable `y` for the condition `x>5`\n",
    "* Take the sum of `y`"
   ]
  },
  {
   "cell_type": "code",
   "execution_count": null,
   "metadata": {},
   "outputs": [],
   "source": [
    "### BEGIN SOLUTION\n",
    "N=20\n",
    "x=10*np.random.rand(N)\n",
    "\n",
    "# Method 2\n",
    "y=(x>5)\n",
    "z=sum(y)\n",
    "print(z)\n",
    "\n",
    "### END SOLUTION"
   ]
  },
  {
   "cell_type": "markdown",
   "metadata": {
    "deletable": false,
    "editable": false
   },
   "source": [
    "Obviously, method 2 is much faster to implement. But wait a minute, a sum over an array of Booleans creates an integer number, something weird must be going on here?!\n",
    "\n",
    "In fact, Python is sufficiently clever to understand that if you take a sum that `True` counts as 1 and `False` as zero. Another way of seeing is this is that `1*y`, with `y` a Boolean array, generates a sequence of ones and zeros that can be summed. So when performing mathematical operations with Booleans these may be converted to numeric values.\n",
    "\n",
    "### Multi-dimensional integration\n",
    "\n",
    "Using the method of Boolean indexing, the speed of calculating Monte-Carlo integrals through the mean value method can be improved. When the mean value method is used to calculate areas or volumes $f(\\vec{r}_i)=1$. In the most general case $f(\\vec{r}_i)$ is the function that is integrated over an area or volume. \n",
    "\n",
    "**Exercise 5**\n",
    "\n",
    "Change your code for calculating $\\pi$ using Boolean indexing, i.e. replace the `for` loop with two lines of code: one for Boolean indexing the points within the circle, the second for calculating the sum."
   ]
  },
  {
   "cell_type": "markdown",
   "metadata": {
    "deletable": false,
    "editable": false
   },
   "source": [
    "The beauty of Monte-Carlo integration is that extension to higher dimensionality integrals is straightforward. Just generate the random numbers in the multi-dimensional space enclosing the to be integrated volume $S$, apply Boolean indexing, and calculate the mean value.\n",
    "\n",
    "**Exercise 6** \n",
    "\n",
    "In this exercise we are going to calculate the mass of a 3D sphere with linearly increasing density. This problem is quite challenging to do analytically, but with Monte Carlo integration it is relatively easy.<br>\n",
    "\n",
    "Let's first start with the simple problem of determining the mass of a sphere with uniform density $\\rho_0=1.5$ kg/m$^3$. The sphere has a radius of 1 meter, and we initially integrate it with $N=100$ points. \n",
    "* Generate an array of $N$ random numbers for the $x$, $y$, and $z$ coordinates. Make sure that all points lie in a cube enclosing the sphere \n",
    "* Generate an index function. This is an array that is equal to 1 for points inside the sphere and 0 outside the sphere. Use the xx technique you learned above to do this without a for loop.\n",
    "* Calculate the mass by applying the mean value method\n",
    "* Do you get a mass of 2$\\pi$ kg? And if you increase $N$?"
   ]
  },
  {
   "cell_type": "code",
   "execution_count": null,
   "metadata": {},
   "outputs": [],
   "source": [
    "###\n",
    "### Your code here\n",
    "###\n"
   ]
  },
  {
   "cell_type": "markdown",
   "metadata": {
    "deletable": false,
    "editable": false
   },
   "source": [
    "**Exercise 7**\n",
    "\n",
    "Now we make it a bit more difficult by adjusting the code. Consider a density that is a linear function of the radius according to $\\rho(r)=\\rho_0 r$.<br>\n",
    "\n",
    "Calculate the mass of the sphere for the case of the linear increasing density using the methodology developed in **exercise 6**. With some effort we can calculate the analytical answer as 1.5$\\pi$ to check our answer."
   ]
  },
  {
   "cell_type": "code",
   "execution_count": null,
   "metadata": {},
   "outputs": [],
   "source": [
    "###\n",
    "### Your code here\n",
    "###\n"
   ]
  },
  {
   "cell_type": "markdown",
   "metadata": {
    "deletable": false,
    "editable": false
   },
   "source": [
    "### Monte-Carlo integration accuracy\n",
    "\n",
    "The Monte Carlo integration error scales as $N^{-1/2}$ no matter what the dimensionality of the problem is. If we would have performed the integration with the simple sum rule the error would be $O(h)\\propto O(1/N)$ , which on first look may indicate that this is more accurate than Monte Carlo integration. However, this accuracy is only for a single dimension. \n",
    "\n",
    "For a cubic volume we have only $N^{1/3}$ points along every direction. Hence, the simple sum integration error in three dimensions scales as $N^{-1/3}$, which is worse than with Monte Carlo integration. Especially for problems with high dimensionality (D) the use of Monte Carlo integration is more advantageous than conventional numerical integration as, for simple sum integration, the accuracy scales as $N^{-1/D}$, whereas Monte-Carlo integration always scales as $N^{-1/2}$.\n",
    "\n",
    "These integrations occur regularly in statistical mechanics. "
   ]
  }
 ],
 "metadata": {},
 "nbformat": 4,
 "nbformat_minor": 2
}
