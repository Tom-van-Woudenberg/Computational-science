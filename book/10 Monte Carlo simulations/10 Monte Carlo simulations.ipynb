{
 "cells": [
  {
   "cell_type": "markdown",
   "metadata": {
    "deletable": false,
    "editable": false
   },
   "source": [
    "# Monte Carlo simulations\n",
    "\n",
    "In this lecture, you will implement Monte Carlo simulations in Python.\n",
    "\n",
    "1. Implement Monte Carlo simulation to model physical systems"
   ]
  },
  {
   "cell_type": "code",
   "execution_count": null,
   "metadata": {},
   "outputs": [],
   "source": [
    "# Initialisation code for the notebook\n",
    "import numpy as np\n",
    "import matplotlib.pyplot as plt\n",
    "import sys\n",
    "sys.path.append('resource/asnlib/public/')\n",
    "sys.path.append('../answer_checking/') \n",
    "from validate_answers import *"
   ]
  },
  {
   "cell_type": "markdown",
   "metadata": {
    "deletable": false,
    "editable": false
   },
   "source": [
    "In the previous lecture we have seen that Monte Carlo techniques can be used to determine the value of mathematical integrals, however, it is also widely used to simulate physical processes. In this exercise we will investigate Brownian motion.\n",
    "\n",
    "## Brownian motion\n",
    "\n",
    "When a macroscopic, but small, particle is suspended in a fluid it will show motion due to the collisions of molecules with the particle. When a molecule collides with the particle it transfers momentum to the particle. Since many molecules collide with the particle at arbitrary times and from arbitrary directions the particle experiences a random net momentum transferred to the particle. This random force causes the particle to follow a so-called random walk ('dronkemanswandeling') and the movement of the particle is called Brownian motion.\n",
    "\n",
    "Brownian motion of a particle with mass $m$ and radius $r$ can be modeled by a differential equation\n",
    "\n",
    "\\begin{equation}\n",
    "m \\frac{\\text{d}^2 x}{\\text{d} t^2}=-\\gamma \\frac{\\text{d} x}{\\text{d} t} + \\sqrt{2 k_B T \\gamma} F(t) \\, ,\n",
    "\\end{equation}\n",
    "\n",
    "with $\\gamma=6 \\pi \\eta r$ the friction coefficient, $\\eta$ the viscosity of the fluid. We consider the case where $m/\\gamma \\ll 1$, hence, the second derivative of the position (inertial term) can be neglected. As the random force, a discrete random variable $F_i=X_i/\\sqrt{\\Delta t}$ is used. With the use of the finite difference methods we learned in lecture 3 we obtain the recursive equation\n",
    "\n",
    "\\begin{equation} \n",
    "x_i = x_{i-1}+\\sqrt{2 D \\Delta t} \\, X_i \\, ,\n",
    "\\end{equation}\n",
    "\n",
    "with the diffusion coefficient given by $D=k_B T/6 \\pi \\eta r$ and $\\Delta t$ the discrete time step in seconds. The variable $X_i$ is a discrete random variable that is assigned the value of $\\pm$1, with equal probability for up and down, i.e., with chance P$(X_i=+1)$=P$(X_i=-1)$=0.5. The expectation value of $X_i$ is calculated by averaging the outcome over all possible realizations, i.e., $\\langle X_i\\rangle =1/2 (1) + 1/2 (-1)$=0. The expectation value of the square of the displacement for one step is $\\langle X_i^2\\rangle =1/2 (1)^2 + 1/2 (-1)^2=1$. In general, we are more interested in the average total distance traveled $X$ after $N$ steps, which is found by applying the recursive equation $N$ times. This is a random variable as well\n",
    "\n",
    "\\begin{equation}\n",
    "X = \\sqrt{2 D \\Delta t} \\sum_{i=1}^{N} X_i \\, ,\n",
    "\\end{equation}\n",
    "\n",
    "The mean total distance traveled is $\\langle  X \\rangle  =\\sqrt{2 D \\Delta t} \\sum_{i=1}^{N} \\langle  X_i \\rangle $=0. So after $N$ steps we expect that on average that the particle has traveled equal amounts in the positive or negative direction. However, typically we expect the particle to have traveled a certain distance either in the positive or negative direction from its initial start position. This we calculate with $\\langle  X^2 \\rangle =  \\langle  2 D \\Delta t \\sum_{i=1}^{N} X_i \\sum_{j=1}^{N} X_j \\rangle $. Since $X_i$ and $X_j$ are independent the only terms that remain are those with $i=j$ we obtain that  \n",
    "\n",
    "\\begin{equation}\n",
    "\\langle  X^2 \\rangle  =2 D N \\Delta t \\, .\n",
    "\\end{equation}\n",
    "\n",
    "The square of the distance traveled increases linearly with time. The previous description models the 1D Brownian motion. This formalism easily can be extended to 3D. Where the movement in any direction is independent and described by the 1D model the total distance travelled in 3D is $\\langle r^2\\rangle = \\langle X^2 + Y^2 + Z^2 \\rangle=6D N \\Delta t$\n",
    "\n",
    "**Exercise 1** \n",
    "\n",
    "Calculate the 3D Browian motion for a glass particle with a radius of one micrometer and a density of 2.2 kg/m$^3$. Use the viscosity of water at room temperature (295 Kelvin) of 0.001 Pa s. The time step is 0.01 seconds. Perform the following steps\n",
    "* Check in your code that $m/\\gamma$ is (much) smaller than unity  \n",
    "* For 1D create an array of random numbers with values -1 and +1. Start with an array of 100 particles (100 rows) and 500 timesteps (columns). To create these numbers you can\n",
    "   1. Use conditional statements on the uniform distribution and shift and multiply to get the values -1 and +1\n",
    "   2. Use the numpy integer random variable and shift and multiply to get the values -1 and +1\n",
    "* Multiply the +1 and -1 random numbers with the stepsize $\\sqrt{2 D \\Delta t}$ to obtain the random steps in $x$\n",
    "* Create similar random arrays for the other two dimensions"
   ]
  },
  {
   "cell_type": "code",
   "execution_count": null,
   "metadata": {},
   "outputs": [],
   "source": [
    "###\n",
    "### Your code here\n",
    "###\n"
   ]
  },
  {
   "cell_type": "markdown",
   "metadata": {
    "deletable": false,
    "editable": false
   },
   "source": [
    "**Exercise 2** \n",
    "\n",
    "Calculate the cumulative 1D displacement of every particle by summing over all values of steps in the array (first element is step 1, second element is sum of step 1 and 2, third element is sum of step 1-3, etc.). Use numpy `cumsum` to perform the cumulative summation in the time direction for all particles. \n",
    "\n",
    "Plot all the 1D particle trajectories using a for loop. Use the correct time axis (starting at $t= \\Delta t$ and ending at $t=N \\Delta t)$. The shape of the ensemble of trajectories somewhat resembles the left side of a horizontally oriented ellipse."
   ]
  },
  {
   "cell_type": "code",
   "execution_count": null,
   "metadata": {},
   "outputs": [],
   "source": [
    "###\n",
    "### Your code here\n",
    "###\n"
   ]
  },
  {
   "cell_type": "markdown",
   "metadata": {
    "deletable": false,
    "editable": false
   },
   "source": [
    "**Exercise 3** \n",
    "\n",
    "Calculate the 3D mean square displacement $\\langle r^2 \\rangle$ and plot it against time and compare it to theory. This is the average over all particles of the total displacement.\n",
    "\n",
    "Make a plot and compare it to the theoretical prediction $\\langle r^2 \\rangle =6Dt$. If necessary, increase the number of particles to improve your statistics. "
   ]
  },
  {
   "cell_type": "code",
   "execution_count": null,
   "metadata": {},
   "outputs": [],
   "source": [
    "###\n",
    "### Your code here\n",
    "###\n"
   ]
  },
  {
   "cell_type": "markdown",
   "metadata": {
    "deletable": false,
    "editable": false
   },
   "source": [
    "**Exercise 4**\n",
    "\n",
    "Plot the particle trajectories of the first 5 particles in 3D using a for loop and the given code. Here we use the [mplot3d](https://matplotlib.org/mpl_toolkits/mplot3d/tutorial.html) function from the mpl_toolbox library."
   ]
  },
  {
   "cell_type": "code",
   "execution_count": null,
   "metadata": {},
   "outputs": [],
   "source": [
    "from mpl_toolkits import mplot3d\n",
    "\n",
    "ax = plt.axes(projection='3d')\n",
    "line=['-r', '-b', '-k', '-g', '-y']\n",
    "\n",
    "# make a loop over the first 5 trajectories and plot them\n",
    "\n",
    "###\n",
    "### Your code here\n",
    "###\n"
   ]
  },
  {
   "cell_type": "markdown",
   "metadata": {
    "deletable": false,
    "editable": false
   },
   "source": [
    "## Markov-chain Monte-Carlo method\n",
    "\n",
    "For a system of non-interacting particles the average properties (e.g. diffusion coefficient as above) are already well determined by taking only the realizations for a few particles. For more complicated systems, for example systems of interacting particles, simulating their properties is not that easy. \n",
    "\n",
    "For example, in statistical mechanics one is interested in the properties of the system at a specific temperature $T$. The state of the system is in general unknown, but it is known that the system has a Boltzmann distribution. Hence, the calculation of some system property is performed by calculating\n",
    "\n",
    "\\begin{equation}\n",
    "    \\langle X \\rangle = \\sum_i X_i P(E_i) \\, \\, \\text{with} \\, \\, P(E_i)=\\frac{\\text{e}^{-\\beta E_i}}{Z} \\,\n",
    "\\end{equation}\n",
    "with $Z$ the partition function. In general this equation could be tackled with Monte Carlo integration methods (the sum is quite similar to the integral previously encountered). We would select some states and calculate the mean value, based on this sample of states. However, for these physical systems this wouldn't work! Many of the states have an energy way above equilibrium and therefore have a very low probability. Hence, we would be sampling a lot of states that contribute nothing to the sum, and only very very few that do contribute. Moreover, the number of states is too big to sample a significant fraction (e.g. a gas with two degrees of freedom already as $2^{10^{23}}$ states.\n",
    "\n",
    "However, there are some methods to make these simulations also for complicated and large systems. One such method is the <a href=\"https://en.wikipedia.org/wiki/Markov_chain\">Markov chain</a> Monte Carlo method. In this case we do not choose the states at random, but instead pick only states that properly sample the Boltzmann distribution. But how to do this without any a priori knowledge of what these states are?\n",
    "\n",
    "The trick is to start with a random state and then change the state according to the probability distribution of that change to occur, i.e. we require that\n",
    "\n",
    "\\begin{equation}\n",
    "    \\frac{T_{ij}}{T_{ji}} = \\frac{P(E_j)}{P(E_i)} = \\text{e}^{-\\beta(E_j-E_i)}\n",
    "\\end{equation}\n",
    "with $T_{ij}$ the transition probability of going from state $i$ to $j$. So if $E_j>E_i$ the probability decreases when the energy difference becomes bigger. A way to implement this is through the use of the <a href=\"https://en.wikipedia.org/wiki/Metropolis%E2%80%93Hastings_algorithm\">Metropolis algorithm</a> where the transition from $i4 to $j$ is called a move. This works in the following way: if the energy of the new state is lower than that of the previous state, then we accept the move. If the energy is higher we accept it with a probability given by the Boltzmann distribution. The Metropolis probability is \n",
    "\n",
    "\\begin{equation}\n",
    "    P_a=\\left\\{ \\begin{array}{ll}1 & \\text{if} E_j \\leq E_i \\\\\\text{e}^{-\\beta(E_j-E_i)} & \\text{if} E_j > E_i\\end{array}\\right.\n",
    "\\end{equation}\n",
    "\n",
    "When we take the above stated probability for a move, it can be shown that the transition probability obeys the requirement for $T_{ij}$. Since, we only make moves that obey the Boltzmann statistics the samples in the Markov chain that we acquire will distribution with the same probability function (and not sample many unoccupied states). \n",
    "\n",
    "In summary, the recipe for the Markov-chain Monte Carlo method is as follows\n",
    "\n",
    "1. Choose a random starting state\n",
    "2. Choose a move at random from an allowed set of moves (determined by the physics of the problem)\n",
    "3. Calculate the value of the acceptance probability $P_a$\n",
    "    1. With probability $P_a$ accept the move (change the system to a new state)\n",
    "    2. With probability $1-P_a$ reject the move (keep the system as it is)\n",
    "    \n",
    "4. Determine the statistical quantity of interest\n",
    "\n",
    "The exercises below shows the implementation of the Markov-chain Monte Carlo method for the Ising model of magnetism."
   ]
  },
  {
   "cell_type": "markdown",
   "metadata": {
    "deletable": false,
    "editable": false
   },
   "source": [
    "## Ising model of magnetism\n",
    "\n",
    "The Ising model is a theoretical model of a magnet.  The magnetization of a magnetic material is made up of the combination of many small magnetic dipoles spread throughout the material.  If these dipoles point in random directions then the overall magnetization of the system will be close to zero, but if they line up so that all or most of them point in the same direction then the system can acquire a macroscopic magnetic moment, i.e., it becomes magnetized.  The Ising model is a model of this process in which the individual moments are represented by dipoles or spins arranged on a grid or lattice, illustrated here:\n",
    "\n",
    "<img src=\"resource/asnlib/public/spins.png\" width=25%/>\n",
    "\n",
    "In this case we are using a square lattice in two dimensions, although the model can be defined in principle for any lattice in any number of dimensions.\n",
    "\n",
    "The spins themselves, in this simple model, are restricted to point in only two directions, up and down. Mathematically the spins are represented by variables~$s_i=\\pm1$ on the points of the lattice, $+1$ for up-pointing spins and $-1$ for down-pointing ones. Dipoles in real magnets can typically point in any spatial direction, not just up or down, but the\n",
    "Ising model, with its restriction to just the two directions, captures a lot of the important physics while being significantly simpler to understand.\n",
    "\n",
    "Another important feature of many magnetic materials is that the individual dipoles in the material may interact magnetically in such a way that it is energetically favorable for them to line up in the same direction.  The\n",
    "magnetic potential energy due to the interaction of two dipoles is proportional to their dot product, but in the Ising model this simplifies to just the product $s_is_j$ for spins on sites $i$ and $j$ of the lattice, since the spins are one-dimensional scalars, not vectors. Then the actual energy of interaction is $-J_{ij} s_i s_j$, where $J_{ij}$ is a positive interaction constant. The minus sign ensures that the interactions are ferromagnetic, meaning the energy is lower when dipoles are lined up. A ferromagnetic interaction implies that the material will magnetize if given the chance.  (In some materials the interaction has the opposite sign so that the dipoles prefer to be antialigned.  Such a\n",
    "material is said to be antiferromagnetic, but we will not look at the antiferromagnetic case here.)\n",
    "\n",
    "Normally it is assumed that spins interact only with those that are immediately adjacent to them on the lattice, which gives a total energy for the entire system equal to\n",
    "\\begin{equation}\n",
    "E = -J_{ij} \\sum_{<ij>} s_i s_j \\,,\n",
    "\\end{equation}\n",
    "where the notation $<ij>$ indicates a sum over pairs $i,j$ that are adjacent on the lattice. On the square lattice we use here each spin has four adjacent neighbors with which it interacts.\n",
    "\n",
    "Here we write a program to perform a Markov chain Monte Carlo simulation of the Ising model on the square lattice for a system of $20\\times20$ spins. This is an adaption to exercise 10.9 of Newman, Computational Physics\n",
    "\n",
    "**Exercise 5**\n",
    "\n",
    "A naive approach to solve this problem is to calculate all possible realizations of the array of spins and the mean energy of the system by taking the average. Calculate the number of possible realizations for the $20 \\times 20$ Ising model. If a computer could calculate the energy of every realization in 1 microsecond, how long would the entire calculation take?"
   ]
  },
  {
   "cell_type": "code",
   "execution_count": null,
   "metadata": {},
   "outputs": [],
   "source": [
    "###\n",
    "### Your code here\n",
    "###\n"
   ]
  },
  {
   "cell_type": "markdown",
   "metadata": {
    "deletable": false,
    "editable": false
   },
   "source": [
    "**Exercise 6** \n",
    "\n",
    "Set up a randomly distributed spin lattice in the following way\n",
    "* Set up an array of size 20x20 with randomly distributed values +1 and -1. You can use a loop over all points and use `random()<0.5` and if else statements to create the spin lattice. A simpler way is to use the `randint` function and transform the 0 and 1 integer values to -1 and +1. \n",
    "\n",
    "* Calculate the total magnetization by taking the sum over all $\\sigma_{ij}$. If you rerun your program the average magnetization should be around zero.\n",
    "\n",
    "* Make a plot of your random array with `imshow`. Is it random? Are the values only + an -1?\n",
    "\n",
    "For answer checking; use a seed `10`. Save your result to variable `s` if you are using for loops; save your answer to `svec` is you use a single line of code."
   ]
  },
  {
   "cell_type": "code",
   "execution_count": null,
   "metadata": {},
   "outputs": [],
   "source": [
    "np.random.seed(10)\n",
    "\n",
    "###\n",
    "### Your code here\n",
    "###\n",
    "\n",
    "answer_10_06_1 = np.copy(s)    # answer using for loops\n",
    "answer_10_06_2 = np.copy(svec) # answer with vector implementation\n",
    "# only one of the solutions have to be right"
   ]
  },
  {
   "cell_type": "code",
   "execution_count": null,
   "metadata": {
    "deletable": false,
    "editable": false
   },
   "outputs": [],
   "source": [
    "question = \"answer_10_06\"\n",
    "num = 2\n",
    "\n",
    "to_check = [question + \"_%d\" % (n+1) for n in range(num)]\n",
    "feedback = \"\"\n",
    "passed = True\n",
    "for var in to_check:\n",
    "    res, msg = check_answer(eval(var), var)\n",
    "    passed = passed and res\n",
    "    print(msg)\n",
    "\n",
    "assert passed == True, feedback"
   ]
  },
  {
   "cell_type": "markdown",
   "metadata": {
    "deletable": false,
    "editable": false
   },
   "source": [
    "For calculating the spin-spin interaction we take into account only neighbors in the horizontal and vertical direction, not in the diagonal direction. So every spin can form 4 pairs. In calculating the interaction energy it is important not to count pairs twice.\n",
    "\n",
    "To make your final program to run in a reasonable amount of time, you will find it helpful if you can work out a way to calculate the energy using Python's ability to do arithmetic with entire arrays at once.  If you do the calculation step by step, your program will be significantly slower. Hence, follow the procedure below using the technique of array slicing.\n",
    "\n",
    "**Exercise 7** \n",
    "\n",
    "Make a function that calculates the energy over all horizontal and vertical pairs of spins with $J_{ij}=1$.\n",
    "* The function has the array of spins as input\n",
    "* Calculate the inner product of all vertical pairs\n",
    "    * Multiply the spin array with a version that is shifted by one position in the vertical direction\n",
    "* Calculate the inner product of all horizontal pairs\n",
    "    * Multiply the spin array with a version that is shifted by one position in the horizontal direction\n",
    "* Add all the interaction terms and return the total energy (do not forget the minus sign)\n",
    "* Test your method for a small, e.g. 9x9, array of spins with fixed entries and check your answer with pen and paper.\n",
    "* Calculate the initial energy $E$ of your array\n",
    "\n",
    "Note that answer checking only gives the correct result for `s` the array calculated without vectorization."
   ]
  },
  {
   "cell_type": "code",
   "execution_count": null,
   "metadata": {},
   "outputs": [],
   "source": [
    "# def energy(s)\n",
    "\n",
    "###\n",
    "### Your code here\n",
    "###\n",
    "\n",
    "\n",
    "Jij=1.0\n",
    "E=energy(s)\n",
    "\n",
    "answer_10_07_1 = np.copy(E)"
   ]
  },
  {
   "cell_type": "code",
   "execution_count": null,
   "metadata": {
    "deletable": false,
    "editable": false
   },
   "outputs": [],
   "source": [
    "question = \"answer_10_07\"\n",
    "num = 1\n",
    "\n",
    "to_check = [question + \"_%d\" % (n+1) for n in range(num)]\n",
    "feedback = \"\"\n",
    "passed = True\n",
    "for var in to_check:\n",
    "    res, msg = check_answer(eval(var), var)\n",
    "    passed = passed and res\n",
    "    print(msg)\n",
    "\n",
    "assert passed == True, feedback"
   ]
  },
  {
   "cell_type": "markdown",
   "metadata": {
    "deletable": false,
    "editable": false
   },
   "source": [
    "**Exercise 8** \n",
    "\n",
    "Now use your function as the basis for a Metropolis-style simulation of the Ising model with $J=1$ and temperature $T=2$ in units where the Boltzmann constant $k_B$ is also $1$. We can now do the Monte Carlo Markov chain calculation. Do this at $T=2$. Take $N$=1000 points while testing and debugging. Later increase this to $N=1 \\cdot 10^{6}$. \n",
    "* Iterate over all $N$ points of the Markov chain\n",
    "* Store the current energy\n",
    "* Randomly chose a position in the lattice, flip the spins' direction, and calculate the energy of the system\n",
    "* If the energy of the system is lower than the current energy, then accept it\n",
    "* If the energy is higher, then accept it using the Metropolis acceptance formula\n",
    "* If the move is rejected you will have to flip the spin back to where it was.  Otherwise you keep the flipped spin.  \n",
    "* Calculate the magnetization and energy at every iteration and store it in arrays\n",
    "\n",
    "Hint: While you are working on your program, do shorter runs, of maybe ten thousand steps at a time. Once you have it working properly, do a longer run of a million steps to get the final results. \n",
    "\n",
    "The plotting step is done separately below."
   ]
  },
  {
   "cell_type": "code",
   "execution_count": null,
   "metadata": {},
   "outputs": [],
   "source": [
    "# A handy import for printing the progress\n",
    "import sys\n",
    "\n",
    "N=100000\n",
    "\n",
    "T=2.0\n",
    "mpoints=[]\n",
    "epoints=[]\n",
    "for k in range(N):\n",
    "    mpoints.append(M)\n",
    "    epoints.append(E)\n",
    "    if ((k+1)%1000 == 0):\n",
    "        sys.stdout.write(\"\\rPercentage completed: \" + str(100*k/N))\n",
    "        sys.stdout.flush()\n",
    "\n",
    "    ###\n",
    "### Your code here\n",
    "###\n",
    "  \n",
    "    \n",
    "    M=np.sum(s)\n",
    "    E=energy(s) "
   ]
  },
  {
   "cell_type": "markdown",
   "metadata": {
    "deletable": false,
    "editable": false
   },
   "source": [
    "Plot the magnetization and energy as a function of the iteration in two separate subplots. Plot the spin distribution at the final stage of the Markov chain in a third subplot. Is the spin distribution in agreement with what you expect?"
   ]
  },
  {
   "cell_type": "code",
   "execution_count": null,
   "metadata": {},
   "outputs": [],
   "source": [
    "plt.figure(figsize=(12,4), dpi=100)\n",
    "plt.subplot(131)\n",
    "plt.plot(mpoints)\n",
    "plt.ylabel('Magnetization')\n",
    "plt.grid()\n",
    "\n",
    "plt.subplot(132)\n",
    "plt.plot(epoints)\n",
    "plt.ylabel('Energy')\n",
    "plt.grid()\n",
    "\n",
    "plt.subplot(133)\n",
    "plt.imshow(s)\n",
    "plt.xlabel('X-coordinate')\n",
    "plt.ylabel('Y-coordinate')\n",
    "plt.colorbar()\n",
    "\n",
    "plt.tight_layout()"
   ]
  },
  {
   "cell_type": "markdown",
   "metadata": {
    "deletable": false,
    "editable": false
   },
   "source": [
    "**Self check**\n",
    "\n",
    "* You should see that the system develops a spontaneous magnetization, starting from zero and evolving to some nonzero value of the overall magnetization. Magnetization changes (+1/-1), when they occur, typically are between grouped structures, as both spin orientations can lower the overall energy when aligned between pairs  \n",
    "* The energy reaches a lower value, but varies over Markov-chain repeats.\n",
    "\n",
    "Run your program several times and observe the sign of the magnetization that develops, positive or negative. Describe what you find and give a brief explanation of what is happening.\n",
    "\n",
    "Run your program for different temperatures $T=1,2,4$ and and look at the maximum/minimum value of the final magnetization. "
   ]
  }
 ],
 "metadata": {},
 "nbformat": 4,
 "nbformat_minor": 2
}
