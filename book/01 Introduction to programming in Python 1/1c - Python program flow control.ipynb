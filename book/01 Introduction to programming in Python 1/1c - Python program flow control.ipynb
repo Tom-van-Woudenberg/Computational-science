{
 "cells": [
  {
   "cell_type": "markdown",
   "metadata": {
    "deletable": false,
    "editable": false
   },
   "source": [
    "# Python program flow control\n",
    "\n",
    "In this notebook, we will learn how to control the flow of execution of Python code using conditional statements and loops. \n",
    "\n",
    "**Learning objectives for this notebook:**\n",
    "\n",
    "* Student is able to create conditional branching statements using `if`, `elif`, and `else`\n",
    "* Student is able to formulate conditions using `==`, `<`, `>`\n",
    "* Student is able to combine logical conditions using `and` and `or`\n",
    "* Student is able to create a `while` loop that exits on a particular condition\n",
    "* Student is able to create a `for` loop that loops over a range of numbers using the `range()` command\n",
    "* Student is able to exit loops using the `break` command\n",
    "* Student is able to skip the rest of a code block in a loop using `continue`"
   ]
  },
  {
   "cell_type": "markdown",
   "metadata": {
    "deletable": false,
    "editable": false
   },
   "source": [
    "## Conditional statements\n",
    "\n",
    "A powerful concept in programming languages are pieces of code that allow you to control if segments or your code are executed or not based of the value of variables in your code. \n",
    "\n",
    "In this section, we will look at some of the features of the Python language for conditional execution of your code. \n",
    "\n",
    "### The `if` statement\n",
    "\n",
    "We have already seen an example of the `if` statement in the previous notebook. The syntax of the if statement is as follows: \n",
    "\n",
    "```\n",
    "if expression:\n",
    "    code block to be executed if the expression is \"True\"\n",
    "```\n",
    "\n",
    "Here, `expression` is a piece of code the evaluates to either the value `True` or `False`. Here are a few simple examples:"
   ]
  },
  {
   "cell_type": "code",
   "execution_count": null,
   "metadata": {},
   "outputs": [],
   "source": [
    "if True:\n",
    "    print(\"True is true\")   "
   ]
  },
  {
   "cell_type": "code",
   "execution_count": null,
   "metadata": {},
   "outputs": [],
   "source": [
    "if True:\n",
    "    print(\"The code block\")\n",
    "    print(\"after 'if' statements\")\n",
    "    print(\"can have multiple lines.\")"
   ]
  },
  {
   "cell_type": "code",
   "execution_count": null,
   "metadata": {},
   "outputs": [],
   "source": [
    "if False:\n",
    "    print(\"False is not True (this will not be printed)\")"
   ]
  },
  {
   "cell_type": "code",
   "execution_count": null,
   "metadata": {},
   "outputs": [],
   "source": [
    "if not False:\n",
    "    print(\"not False is True\")   "
   ]
  },
  {
   "cell_type": "markdown",
   "metadata": {
    "deletable": false,
    "editable": false
   },
   "source": [
    "**Exercise 1** Try out the following conditional statements, filling in the values specified to replace the `---` in the code cells."
   ]
  },
  {
   "cell_type": "markdown",
   "metadata": {
    "deletable": false,
    "editable": false
   },
   "source": [
    "Check if the integer `1` is true:"
   ]
  },
  {
   "cell_type": "code",
   "execution_count": null,
   "metadata": {},
   "outputs": [],
   "source": [
    "if ---:\n",
    "    print('The expression is true')"
   ]
  },
  {
   "cell_type": "markdown",
   "metadata": {
    "deletable": false,
    "editable": false
   },
   "source": [
    "Check if `103.51` is true:"
   ]
  },
  {
   "cell_type": "code",
   "execution_count": null,
   "metadata": {},
   "outputs": [],
   "source": [
    "if ---:\n",
    "    print('The expression is true')"
   ]
  },
  {
   "cell_type": "markdown",
   "metadata": {
    "deletable": false,
    "editable": false
   },
   "source": [
    "Check if `-1` is true:"
   ]
  },
  {
   "cell_type": "code",
   "execution_count": null,
   "metadata": {},
   "outputs": [],
   "source": [
    "if ---:\n",
    "    print('The expression is true')"
   ]
  },
  {
   "cell_type": "markdown",
   "metadata": {
    "deletable": false,
    "editable": false
   },
   "source": [
    "Check if condition statements work with boolean  variables:"
   ]
  },
  {
   "cell_type": "code",
   "execution_count": null,
   "metadata": {},
   "outputs": [],
   "source": [
    "a = True\n",
    "if ---:\n",
    "    print('The expression is true')"
   ]
  },
  {
   "cell_type": "markdown",
   "metadata": {
    "deletable": false,
    "editable": false
   },
   "source": [
    "Check if conditional statements work with  numerical variables:"
   ]
  },
  {
   "cell_type": "code",
   "execution_count": null,
   "metadata": {},
   "outputs": [],
   "source": [
    "b = -73.445\n",
    "if ---:\n",
    "    print('The expression is true')"
   ]
  },
  {
   "cell_type": "markdown",
   "metadata": {
    "deletable": false,
    "editable": false
   },
   "source": [
    "### Comparison and test operators\n",
    "\n",
    "In the above, the `expression` in the `if` statements were all directly values that are either True or false (except for the example of `not False`). \n",
    "\n",
    "More generally, however, the `expression` can also include comparisons. Some examples of numerical comparisons are given here below:"
   ]
  },
  {
   "cell_type": "code",
   "execution_count": null,
   "metadata": {},
   "outputs": [],
   "source": [
    "if 5 == 5:\n",
    "    print(\"A double equal sign '==' compares the two sides of itself and gives the\")\n",
    "    print(\"result 'True' if the two sides have the same value\")"
   ]
  },
  {
   "cell_type": "code",
   "execution_count": null,
   "metadata": {},
   "outputs": [],
   "source": [
    "a = 5\n",
    "if a == 5:\n",
    "    print(\"== also works with variables\")"
   ]
  },
  {
   "cell_type": "code",
   "execution_count": null,
   "metadata": {},
   "outputs": [],
   "source": [
    "a = 5\n",
    "if 5 == a:\n",
    "    print(\"The variable can be on either side\")"
   ]
  },
  {
   "cell_type": "code",
   "execution_count": null,
   "metadata": {},
   "outputs": [],
   "source": [
    "a = 5\n",
    "b = 5\n",
    "if a == b:\n",
    "    print(\"and == also works with two variables\")"
   ]
  },
  {
   "cell_type": "code",
   "execution_count": null,
   "metadata": {},
   "outputs": [],
   "source": [
    "a = 5\n",
    "if a = 5:\n",
    "    print(\"This will give an error! A single = is an assignment operator, not a conditional test\")\n",
    "    print(\"To check if a is equal to 5, you need to use the double equal sign ==\")"
   ]
  },
  {
   "cell_type": "code",
   "execution_count": null,
   "metadata": {},
   "outputs": [],
   "source": [
    "a = 5\n",
    "if a == 6:\n",
    "    print(\"This will not be printed.\")"
   ]
  },
  {
   "cell_type": "code",
   "execution_count": null,
   "metadata": {},
   "outputs": [],
   "source": [
    "a = 5\n",
    "if 2*a == 10:\n",
    "    print(\"You can also use mathematical expressions\")    "
   ]
  },
  {
   "cell_type": "markdown",
   "metadata": {
    "deletable": false,
    "editable": false
   },
   "source": [
    "In addition to the `==` operator, there are also several other comparison operators such as `<`, `>`, `>=`, `<=`, `!=`"
   ]
  },
  {
   "cell_type": "markdown",
   "metadata": {
    "deletable": false,
    "editable": false
   },
   "source": [
    "**Exercise 2** Test the operators `<`, `>`, `>=`, `<=`, `!=` by trying them in an if statement with numerical values. "
   ]
  },
  {
   "cell_type": "code",
   "execution_count": null,
   "metadata": {},
   "outputs": [],
   "source": [
    "if --- < ---:\n",
    "    print('The expression is true')"
   ]
  },
  {
   "cell_type": "code",
   "execution_count": null,
   "metadata": {},
   "outputs": [],
   "source": [
    "if --- <= ---:\n",
    "    print('The expression is true')"
   ]
  },
  {
   "cell_type": "code",
   "execution_count": null,
   "metadata": {},
   "outputs": [],
   "source": [
    "if --- > ---:\n",
    "    print('The expression is true')"
   ]
  },
  {
   "cell_type": "code",
   "execution_count": null,
   "metadata": {},
   "outputs": [],
   "source": [
    "if --- >= ---:\n",
    "    print('The expression is true')"
   ]
  },
  {
   "cell_type": "code",
   "execution_count": null,
   "metadata": {},
   "outputs": [],
   "source": [
    "if --- != ---:\n",
    "    print('The expression is true')"
   ]
  },
  {
   "cell_type": "markdown",
   "metadata": {
    "deletable": false,
    "editable": false
   },
   "source": [
    "### Logical operations\n",
    "\n",
    "Python also allows you to build the `expression` out of logical combinations of several conditions using the keywords `and`, `or`, and `not`. The value of these operators is as follows\n",
    "* `and` evaluates to True if both conditions are True\n",
    "* `or` evaluates to True if either condition is True\n",
    "* `not`evaluates to true if condition is not True\n",
    "\n",
    "Below are a few examples. "
   ]
  },
  {
   "cell_type": "code",
   "execution_count": null,
   "metadata": {},
   "outputs": [],
   "source": [
    "if True and False:\n",
    "    print(\"This will not be printed\")"
   ]
  },
  {
   "cell_type": "code",
   "execution_count": null,
   "metadata": {},
   "outputs": [],
   "source": [
    "if True or False:\n",
    "    print(\"This will be printed\")"
   ]
  },
  {
   "cell_type": "code",
   "execution_count": null,
   "metadata": {},
   "outputs": [],
   "source": [
    "if not 5 > 6:\n",
    "    print(\"We have already seen 'not' in previous examples. Here, we also combine with an comparison\")"
   ]
  },
  {
   "cell_type": "code",
   "execution_count": null,
   "metadata": {},
   "outputs": [],
   "source": [
    "if not 5 != 5:\n",
    "    print(\"This is a very silly example (hard to read, bad coding!)\")"
   ]
  },
  {
   "cell_type": "code",
   "execution_count": null,
   "metadata": {},
   "outputs": [],
   "source": [
    "if 5 < 6 and 10 > 9: \n",
    "    print(\"An example of combining conditional expressions with 'and'\")"
   ]
  },
  {
   "cell_type": "markdown",
   "metadata": {
    "deletable": false,
    "editable": false
   },
   "source": [
    "**Exercise 3** Try out the following examples using the if statement form from above for the conditions\n",
    "\n",
    "Check if both 5 is smaller than 6, and 10 is smaller equal than 9"
   ]
  },
  {
   "cell_type": "code",
   "execution_count": null,
   "metadata": {},
   "outputs": [],
   "source": [
    "# Your code here"
   ]
  },
  {
   "cell_type": "markdown",
   "metadata": {
    "deletable": false,
    "editable": false
   },
   "source": [
    "Check if the statement `not (False or True)` \"is\" (i.e. evaluates to) True or False. Compare to `not False or True` to understand the operation of this condition."
   ]
  },
  {
   "cell_type": "code",
   "execution_count": null,
   "metadata": {},
   "outputs": [],
   "source": [
    "# Your code here"
   ]
  },
  {
   "cell_type": "markdown",
   "metadata": {
    "deletable": false,
    "editable": false
   },
   "source": [
    "Check if the statement `(not False) or True` is True or False"
   ]
  },
  {
   "cell_type": "code",
   "execution_count": null,
   "metadata": {},
   "outputs": [],
   "source": [
    "# Your code here"
   ]
  },
  {
   "cell_type": "markdown",
   "metadata": {
    "deletable": false,
    "editable": false
   },
   "source": [
    "### The `elif` and `else` statements\n",
    "\n",
    "In Python, you can combine the `if` statement with `elif` and `else` commands in a chain in order to allow you to take actions in the case that the starting `if` statement was false. \n",
    "\n",
    "`elif` (else if) is a command that allows you to check another condition if the condition of the starting `if` is `False`. Note that if the `if` criterion is `True`, the `elif` statement will be skipped and not checked. \n",
    "\n",
    "`else` is a command that allows you to execute some code if all of the `if` and all the `elif`s are are `False`. \n",
    "\n",
    "Note that to be part of the \"chain\", all the `elif`s and the last `else` must follow directly after each other's code blocks with no other code in between. And a new `if` always starts a new chain. Obviously, you can also make conditions if an initial condition is fulfllled using nested if-else-elseif statement. In that case you just indent for a second time your secondary condition. \n",
    "\n",
    "You can see how this works in the following examples:"
   ]
  },
  {
   "cell_type": "code",
   "execution_count": null,
   "metadata": {},
   "outputs": [],
   "source": [
    "a = 5\n",
    "if a < 6:\n",
    "    print(\"a is less than 6\")\n",
    "else:\n",
    "    print(\"a is not less than 6\")"
   ]
  },
  {
   "cell_type": "code",
   "execution_count": null,
   "metadata": {},
   "outputs": [],
   "source": [
    "a = 5\n",
    "if a<6: \n",
    "    print(\"the 'if' statement found that a is less than 6\")\n",
    "elif a<6:\n",
    "    print(\"this will never get printed!\")"
   ]
  },
  {
   "cell_type": "code",
   "execution_count": null,
   "metadata": {},
   "outputs": [],
   "source": [
    "a = 5\n",
    "if a<6: \n",
    "    print(\"the first if found that a is less than 6\")\n",
    "if a<6:\n",
    "    print(\"unlike elif, a second if will get executed.\")"
   ]
  },
  {
   "cell_type": "code",
   "execution_count": null,
   "metadata": {},
   "outputs": [],
   "source": [
    "# example of a nested if-statement\n",
    "a=4\n",
    "if a<6 and a>=0:\n",
    "    if a>3:\n",
    "        print(\"the value of a is 4 or 5\")\n",
    "    else:\n",
    "        print(\"the value of a is 0, 1, 2, or 3\")"
   ]
  },
  {
   "cell_type": "markdown",
   "metadata": {
    "deletable": false,
    "editable": false
   },
   "source": [
    "Here is an example of a function that combines an `if`, and `elif`, and an `else` to check if a number is in a certain range:"
   ]
  },
  {
   "cell_type": "markdown",
   "metadata": {
    "deletable": false,
    "editable": false
   },
   "source": [
    "**Exercise 4** Practice the use of the if-elif-else statement with the following exercise by filling in the missing conditional statements. You must use all three of `if`, `elif` and `else`. "
   ]
  },
  {
   "cell_type": "code",
   "execution_count": null,
   "metadata": {},
   "outputs": [],
   "source": [
    "def check_number(a):\n",
    "    ...conditional statement number 1...\n",
    "        print(a, \"is less than or equal to 5\")\n",
    "    ...conditional statement number 2...\n",
    "        print(a, \"is between 5 and 10\")\n",
    "    ...conditional statement number 3...\n",
    "        print(a, \"is greater than or equal to 10\")\n",
    "        \n",
    "# Testing your function\n",
    "check_number(1)  \n",
    "check_number(5)  \n",
    "check_number(7)\n",
    "check_number(10)\n",
    "check_number(15)"
   ]
  },
  {
   "cell_type": "markdown",
   "metadata": {
    "deletable": false,
    "editable": false
   },
   "source": [
    "## Loops\n",
    "\n",
    "Loops are a construction in a programming language that allow you to execute the same piece of code repeatedly. \n",
    "\n",
    "In Python there are two types of loops: `while` loops and `for` loops. We will look at `while` loops first and then move on to the more common `for` loops. \n",
    "\n",
    "### The `while` loop\n",
    "\n",
    "Using the `while` command, you can specify that a block of code gets executed over and over again until a certain condition is satified:\n",
    "\n",
    "```\n",
    "while expression:\n",
    "    code...\n",
    "```\n",
    "\n",
    "As long as `expression` is true, then the code block will be executed over and over again.\n",
    "\n",
    "A simple example where we use a while loop to count to 10:"
   ]
  },
  {
   "cell_type": "code",
   "execution_count": null,
   "metadata": {},
   "outputs": [],
   "source": [
    "i = 1\n",
    "while i <= 10:\n",
    "    print(i)\n",
    "    i = i+1"
   ]
  },
  {
   "cell_type": "markdown",
   "metadata": {
    "deletable": false,
    "editable": false
   },
   "source": [
    "In this example here, we use a while loop to add up all the numbers between 1 and 10:"
   ]
  },
  {
   "cell_type": "code",
   "execution_count": null,
   "metadata": {},
   "outputs": [],
   "source": [
    "i = 1\n",
    "s = 0\n",
    "\n",
    "while i<= 10:\n",
    "    s = s + i\n",
    "    i = i+1\n",
    "\n",
    "print(\"Sum is\", s)"
   ]
  },
  {
   "cell_type": "markdown",
   "metadata": {
    "deletable": false,
    "editable": false
   },
   "source": [
    "Note that with `while` loops, you have to be careful to make sure that your code block does something that results in your `expression` becomes false at some point, otherwise the loop will run for ever. \n",
    "\n",
    "For example, when initially we wrote the above cell to calculate the sum, we forgot the `i = i+1` line of code:"
   ]
  },
  {
   "cell_type": "code",
   "execution_count": null,
   "metadata": {},
   "outputs": [],
   "source": [
    "i = 1\n",
    "s = 0\n",
    "\n",
    "while i<= 10:\n",
    "    s = s + i\n",
    "\n",
    "print(\"Sum is\", s)"
   ]
  },
  {
   "cell_type": "markdown",
   "metadata": {
    "deletable": false,
    "editable": false
   },
   "source": [
    "**This code will never finish: it will go into an infinite loop!** (You can see that it is still running because the `*` beside the `In` text never gets turned into a number.) Note that for this  will have to manually stop the kernel using the stop button in the toolbar or it will run forever..."
   ]
  },
  {
   "cell_type": "markdown",
   "metadata": {
    "deletable": false,
    "editable": false
   },
   "source": [
    "### When should I use a `while` loop? \n",
    "\n",
    "For both of the examples above, one would typically use `for` loop, which we will see in the next section. One place where `while` loops are very useful is if you do not know ahead of time how many iterations of the loop you will need. For example, let's consider the following sum:\n",
    "\n",
    "$$\n",
    "S(n) = \\sum_{i=1}^n \\sin^2(i)\n",
    "$$\n",
    "\n",
    "Let's say we want to know: for which $n$ does the sum exceed 30? We can easily check this with a `while` loop:"
   ]
  },
  {
   "cell_type": "code",
   "execution_count": null,
   "metadata": {},
   "outputs": [],
   "source": [
    "from numpy import sin\n",
    "\n",
    "i = 1\n",
    "s = 0\n",
    "\n",
    "while s<30:\n",
    "    s += sin(i)**2\n",
    "    i += 1\n",
    "\n",
    "print(\"Sum is\", s)\n",
    "print(\"i is\", i)"
   ]
  },
  {
   "cell_type": "markdown",
   "metadata": {
    "deletable": false,
    "editable": false
   },
   "source": [
    "Note here I have also used a new operator `+=`: this is a special assignment operator that increments the variable by the specified amount. `a += 1` is equivalent to `a = a + 1` (it just saves a bit of typing, remember: programmers are lazy...). "
   ]
  },
  {
   "cell_type": "markdown",
   "metadata": {
    "deletable": false,
    "editable": false
   },
   "source": [
    "**Exercise 5** Write a function `factorial(a)` to calculate the factorial of a number using a while loop. The factorial, denoted with !, is the product of all numbers up to that number, i.e. $4!=1\\cdot2\\cdot3\\cdot4$. Note that perhaps unexpectedly for you $0!=1$ for which your function also have to give an answer. Make sure, when called, your function returns the factorial value."
   ]
  },
  {
   "cell_type": "code",
   "execution_count": null,
   "metadata": {},
   "outputs": [],
   "source": [
    "# use notation in line below\n",
    "# def factorial(a):\n",
    "\n",
    "###\n",
    "### Your code here\n",
    "###\n",
    "\n",
    "\n",
    "# tests that are performed\n",
    "print(factorial(4))\n",
    "print(factorial(0))"
   ]
  },
  {
   "cell_type": "code",
   "execution_count": null,
   "metadata": {
    "deletable": false,
    "editable": false
   },
   "outputs": [],
   "source": [
    "### BEGIN HIDDEN TESTS\n",
    "question = \"answer_1c_5\"\n",
    "\n",
    "to_check = [question + \"_%d\" % 1]\n",
    "feedback = \"\"\n",
    "\n",
    "key=question + \"_%d\" % 1\n",
    "\n",
    "msg = \"\\nFeedback %s:\\n\" % key\n",
    "msg += \"=\"*(len(msg)-2)\n",
    "msg += \"\\n\\n\"\n",
    "\n",
    "def factorialanswer(a):\n",
    "    if a!=0:\n",
    "        i=1\n",
    "        b=1\n",
    "        while(i<=a):\n",
    "            b*=i\n",
    "            i+=1\n",
    "    else:\n",
    "        b=1\n",
    "    return b\n",
    "\n",
    "if (factorial(0)==factorialanswer(0)) & (factorial(4)==factorialanswer(4)):\n",
    "    msg+='Correct answer!'\n",
    "else:\n",
    "    msg+='Your answer is incorrect'\n",
    "   \n",
    "print(msg); feedback += msg + \"n\"\n",
    "\n",
    "assert True==True\n",
    "\n",
    "### END HIDDEN TESTS"
   ]
  },
  {
   "cell_type": "markdown",
   "metadata": {
    "deletable": false,
    "editable": false
   },
   "source": [
    "### The `for` loop\n",
    "\n",
    "The `for` loop is designed to execute a piece of code a fixed number of times. The syntax of the `for` loop is:\n",
    "\n",
    "```\n",
    "for i in (a, b, c, d, ...):\n",
    "    code block\n",
    "```\n",
    "\n",
    "In each subsequent iteration of the for loop, the variable `i` is assigned next value that is supplied in the list values. \n",
    "\n",
    "We can repeat our sum calculation above using the following `for` loop:"
   ]
  },
  {
   "cell_type": "code",
   "execution_count": null,
   "metadata": {},
   "outputs": [],
   "source": [
    "s = 0\n",
    "\n",
    "for i in (1, 2, 3, 4, 5, 6, 7, 8, 9, 10):\n",
    "    s += i\n",
    "    print(s)"
   ]
  },
  {
   "cell_type": "markdown",
   "metadata": {
    "deletable": false,
    "editable": false
   },
   "source": [
    "**Exercise 6** Calculate the sin square sum, stated above for the while loop, for n=10 using a `for` loop. Name your "
   ]
  },
  {
   "cell_type": "code",
   "execution_count": null,
   "metadata": {},
   "outputs": [],
   "source": [
    "# sumsin2 will be your calculated sum\n",
    "sumsin2 = 0\n",
    "    \n",
    "###\n",
    "### Your code here\n",
    "###\n"
   ]
  },
  {
   "cell_type": "code",
   "execution_count": null,
   "metadata": {
    "deletable": false,
    "editable": false
   },
   "outputs": [],
   "source": [
    "### BEGIN HIDDEN TESTS\n",
    "\n",
    "question = \"answer_1c_6\"\n",
    "\n",
    "to_check = [question + \"_%d\" % 1]\n",
    "feedback = \"\"\n",
    "\n",
    "key=question + \"_%d\" % 1\n",
    "\n",
    "msg = \"\\nFeedback %s:\\n\" % key\n",
    "msg += \"=\"*(len(msg)-2)\n",
    "msg += \"\\n\\n\"\n",
    "\n",
    "if abs(sumsin2-5.001)<1e-3:\n",
    "    msg+='Correct answer!'\n",
    "else:\n",
    "    msg+='Your answer is incorrect'\n",
    "print(msg); feedback += msg + \"n\"\n",
    "\n",
    "assert True==True\n",
    "\n",
    "### END HIDDEN TESTS"
   ]
  },
  {
   "cell_type": "markdown",
   "metadata": {
    "deletable": false,
    "editable": false
   },
   "source": [
    "### The `range()` function\n",
    "\n",
    "You can imagine that if we wanted to perform this sum up to 100, it would be very annoying to type out all of the numbers. For this, Python has a convenient function `range()`, than can automatically generate ranges of numbers for you!\n",
    "\n",
    "The `range` function can be used in a couple of different ways, which we will look at here. We will see, however, that `range` does some funny things, which is related to the fact that Python \"counts from zero\" *(more on this later)*. \n",
    "\n",
    "But let's look just at some concrete examples for now:\n",
    "\n",
    "#### `range(N)`: Print a range of N numbers starting from zero\n",
    "\n",
    "If you give `range` only one argument, it will give a range of numbers starting from 0, and a total number of numbers determined by the argument.  \n",
    "\n",
    "As an explicit example, `range(10)` is equivalent to `(0,1,2,3,4,5,6,7,8,9)`:"
   ]
  },
  {
   "cell_type": "code",
   "execution_count": null,
   "metadata": {},
   "outputs": [],
   "source": [
    "for i in range(10):\n",
    "    print(i)"
   ]
  },
  {
   "cell_type": "markdown",
   "metadata": {
    "deletable": false,
    "editable": false
   },
   "source": [
    "#### `range(N,M)`: Print a range of numbers starting from N and ending at M-1\n",
    "\n",
    "If you give `range` two arguments `range(N,M)`, it will give a range of numbers starting from `N` and stopping at `M-1`. \n"
   ]
  },
  {
   "cell_type": "code",
   "execution_count": null,
   "metadata": {},
   "outputs": [],
   "source": [
    "for i in range(1,11):\n",
    "    print(i)"
   ]
  },
  {
   "cell_type": "markdown",
   "metadata": {
    "deletable": false,
    "editable": false
   },
   "source": [
    "You might ask: why not stop at `M`? If you say the words \"range from N to M\", you would think that this range should include M? \n",
    "\n",
    "There are two reasons you can think of:\n",
    "\n",
    "1. For programmers, it is nice that `range(0,10)` and `range(10)` do the same thing\n",
    "2. It will be handy later that `range(j, j+N)` will then always give you `N` numbers in the range\n",
    "\n",
    "Maybe there are more, I'm not sure (you'd have to ask the nerds who wrote Python...). But in any case, you just need to remember that `range(N,M)` stops at `M-1`...\n"
   ]
  },
  {
   "cell_type": "markdown",
   "metadata": {
    "deletable": false,
    "editable": false
   },
   "source": [
    "#### `range(N,M,S)`: Print a range of numbers less than M, starting from N, with steps of S\n",
    "\n",
    "This is like the last one, but now with the chance to change the steps:"
   ]
  },
  {
   "cell_type": "code",
   "execution_count": null,
   "metadata": {},
   "outputs": [],
   "source": [
    "for i in range(1,11,2):\n",
    "    print(i)"
   ]
  },
  {
   "cell_type": "markdown",
   "metadata": {
    "deletable": false,
    "editable": false
   },
   "source": [
    "Note that the `range` function works only with integers: `range(1,11,0.5)` is not allowed. (For floating point ranges, you can use the `numpy1` function `arange`, more on that later...)"
   ]
  },
  {
   "cell_type": "markdown",
   "metadata": {
    "deletable": false,
    "editable": false
   },
   "source": [
    "**Exercise 7** Implement the range function in the code from exercise 6 that you copy here. Check that you've used it properly by making sure you get the same answer if you take range that starts at 1 and ends at 10. "
   ]
  },
  {
   "cell_type": "code",
   "execution_count": null,
   "metadata": {},
   "outputs": [],
   "source": [
    "# Your code here"
   ]
  },
  {
   "cell_type": "markdown",
   "metadata": {
    "deletable": false,
    "editable": false
   },
   "source": [
    "### Using `for` loops with things other than ranges of numbers\n",
    "\n",
    "In the examples above, we looked at using `for` loops to iterate through a list of integers. \n",
    "\n",
    "In Python, however, `for` loops are much more flexible than only iterating over numbers: for loops can iterate over any <a href=https://www.programiz.com/python-programming/iterator>iteratable object</a>, including Python lists and 1-D numpy arrays, both of which we will see later in this lectures. \n",
    "\n",
    "But, as an example, here is piece of code that uses the `numpy` random number generator to calculate the sum of 10 random integers between 0 and 100:"
   ]
  },
  {
   "cell_type": "code",
   "execution_count": null,
   "metadata": {},
   "outputs": [],
   "source": [
    "from numpy.random import randint\n",
    "\n",
    "s = 0\n",
    "for x in randint(0,100,10):\n",
    "    print(x)\n",
    "    s += x\n",
    "\n",
    "print()\n",
    "print(\"Sum is \", s)"
   ]
  },
  {
   "cell_type": "markdown",
   "metadata": {
    "deletable": false,
    "editable": false
   },
   "source": [
    "### Manually exiting or skipping a loop using `break` and `continue`\n",
    "\n",
    "In addition to the examples we saw above, Python offers two extra commands for controlling the flow of execution in a loop: `break` and `continue`\n",
    "\n",
    "`break` is a command you can use to force the exiting of either a `for` loop or a `while` loop. For example, you can replace the while loop above using something like this:"
   ]
  },
  {
   "cell_type": "code",
   "execution_count": null,
   "metadata": {},
   "outputs": [],
   "source": [
    "s = 0\n",
    "i = 0\n",
    "while True:\n",
    "    s += sin(i)**2\n",
    "    i += 1\n",
    "    if s > 30: \n",
    "        break\n",
    "        \n",
    "print(s)"
   ]
  },
  {
   "cell_type": "markdown",
   "metadata": {
    "deletable": false,
    "editable": false
   },
   "source": [
    "It looks funny at first, because `while True` looks like you will loop forever! But of course, you are saved by the `break` statement. \n",
    "\n",
    "Using `break` statements can sometimes make your code more readable, particularly if you want to be able to exit the loop under different conditions, or have an exist condition trigger a certain piece of code. Here is an example of two conditions: "
   ]
  },
  {
   "cell_type": "code",
   "execution_count": null,
   "metadata": {},
   "outputs": [],
   "source": [
    "from numpy.random import randint\n",
    "\n",
    "i = 0\n",
    "found_five = False\n",
    "max_tries = 10\n",
    "\n",
    "while True:\n",
    "    i += 1\n",
    "    n = randint(0,30)\n",
    "    if n == 5:\n",
    "        found_five = True\n",
    "        break\n",
    "    if i >= max_tries: \n",
    "        break\n",
    "        \n",
    "if found_five:\n",
    "    print(\"We found a 5 after\", i, \"tries\")\n",
    "else:\n",
    "    print(\"We didn't find a 5 in the maximum number number of tries (\", max_tries, \")\")"
   ]
  },
  {
   "cell_type": "markdown",
   "metadata": {
    "deletable": false,
    "editable": false
   },
   "source": [
    "The statement `continue` is used if you want to skip the rest of the code in the code block and restart the next loop. This can sometimes be useful if as a way of avoiding adding an `else` statement. (Remember, programmers are lazy typers...and it can be useful if you have a big long complicated block of code...)"
   ]
  },
  {
   "cell_type": "code",
   "execution_count": null,
   "metadata": {},
   "outputs": [],
   "source": [
    "s = 0\n",
    "for i in randint(0,30,100):\n",
    "    if (i % 5) == 0:\n",
    "        continue\n",
    "    s += i\n",
    "\n",
    "print(\"The sum of 30 random numbers between 0 and 30 excluding those that are divisible by 5 is:\", s)   "
   ]
  },
  {
   "cell_type": "markdown",
   "metadata": {
    "deletable": false,
    "editable": false
   },
   "source": [
    "This is probably not a great example (if you are smart you can do this with less typing), but in any case, you now know what `continue` does. "
   ]
  },
  {
   "cell_type": "markdown",
   "metadata": {
    "deletable": false,
    "editable": false
   },
   "source": [
    "**Exercise 8** Make a while loop that runs up to a million, but breaks when: the \"number\" multiplied by \"that number minus ten\" is equal to 257024. Store the number for which the condition holds in a variable called `ystop`."
   ]
  },
  {
   "cell_type": "code",
   "execution_count": null,
   "metadata": {},
   "outputs": [],
   "source": [
    "# name your variable at the last iteration ystop\n",
    "\n",
    "###\n",
    "### Your code here\n",
    "###\n"
   ]
  },
  {
   "cell_type": "code",
   "execution_count": null,
   "metadata": {
    "deletable": false,
    "editable": false
   },
   "outputs": [],
   "source": [
    "### BEGIN HIDDEN TESTS\n",
    "\n",
    "question = \"answer_1c_8\"\n",
    "\n",
    "to_check = [question + \"_%d\" % 1]\n",
    "feedback = \"\"\n",
    "\n",
    "key=question + \"_%d\" % 1\n",
    "\n",
    "msg = \"\\nFeedback %s:\\n\" % key\n",
    "msg += \"=\"*(len(msg)-2)\n",
    "msg += \"\\n\\n\"\n",
    "\n",
    "if ystop==512:\n",
    "    msg+='Correct answer!'\n",
    "else:\n",
    "    msg+='Your answer is incorrect'\n",
    "\n",
    "print(msg); feedback += msg + \"n\"\n",
    "\n",
    "assert True==True\n",
    "\n",
    "### END HIDDEN TESTS"
   ]
  }
 ],
 "metadata": {},
 "nbformat": 4,
 "nbformat_minor": 2
}
