{
 "cells": [
  {
   "cell_type": "markdown",
   "metadata": {
    "deletable": false,
    "editable": false
   },
   "source": [
    "# TN2513 Lecture 14: Initial Value Problems with PDEs\n",
    "\n",
    "In this lecture, we will explore numerically solving partial differential equations (PDEs) that have the form of an initial value problem using the forward-time centered-space (FTCS) and the spectral method.\n",
    "\n",
    "**Learning objectives:** After completing this lecture, you should be able to:\n",
    "\n",
    "1. Implement the FTCS method for solving initial-value PDEs\n",
    "3. Solve and interpret the results from simulations of the 1-dimensional diffusion equation using FCTS\n",
    "4. Identify the failure of the FTCS method for solving some problems due to numerical instability\n",
    "5. Implement the spectral method for solving initial-value PDEs\n",
    "6. Solve and interpret the results form simulations of the wave equation using the spectral method"
   ]
  },
  {
   "cell_type": "code",
   "execution_count": null,
   "metadata": {
    "deletable": false,
    "editable": false
   },
   "outputs": [],
   "source": [
    "# Notebook code\n",
    "import numpy as np\n",
    "import matplotlib.pyplot as plt\n",
    "from time import time\n",
    "import matplotlib.animation\n",
    "from scipy.fftpack import dst,idst\n",
    "import sys\n",
    "sys.path.append('resource/asnlib/public/')\n",
    "sys.path.append('../answer_checking/') \n",
    "from validate_answers import *"
   ]
  },
  {
   "cell_type": "code",
   "execution_count": null,
   "metadata": {
    "deletable": false,
    "editable": false
   },
   "outputs": [],
   "source": [
    "%matplotlib notebook"
   ]
  },
  {
   "cell_type": "code",
   "execution_count": null,
   "metadata": {
    "deletable": false,
    "editable": false
   },
   "outputs": [],
   "source": [
    "# Notebook code\n",
    "plt.rcParams['figure.dpi'] = 100\n",
    "plt.rcParams[\"animation.html\"] = \"jshtml\""
   ]
  },
  {
   "cell_type": "markdown",
   "metadata": {
    "deletable": false,
    "editable": false
   },
   "source": [
    "## The FTCS method\n",
    "\n",
    "In the previous lecture, we were looking at solving for the steady-state solution of a PDE such as the Poisson equation subjected to particular boundary conditions. In that case, we were interested in a function $\\phi(x,y)$ that was static in time but depended on two spatial coordinates. \n",
    "\n",
    "Another class of PDE that arises frequently in physics is a multivariable problem where one is given an initial condition for a function, and one would like to solve for the value of the function at later times. Since time is now a variable in the equation, the simplest of these involve a function of one spatial dimension and time. An example of this type of PDE is the diffusion equation. For a general function $\\phi(x,t)$, this has the form:\n",
    "\n",
    "$$\n",
    "\\frac{\\partial \\phi}{\\partial t} = \n",
    "D \n",
    "\\frac{\\partial^2 \\phi}{\\partial x^2} \n",
    "$$\n",
    "\n",
    "One approximation for solving this is to use the equation above to make a prediction for $\\phi(x,t+dt)$:\n",
    "\n",
    "$$\n",
    "\\phi(x, t+dt) \\approx \\phi(x,t) + \\frac{\\partial \\phi}{\\partial t}dt  = \\phi(x,t) +\n",
    "D  \\frac{\\partial^2 \\phi}{\\partial x^2} dt\n",
    "$$\n",
    "\n",
    "Using the finite-difference approximation we used previously for the second derivative, we have:\n",
    "\n",
    "$$\n",
    "\\phi(x, t+dt) \\approx \\phi(x,t) + \\frac{D \\cdot dt}{(dx)^2} \\big[ \\phi(x+dx) + \\phi(x-dx) - 2 \\phi(x) \\big]\n",
    "$$\n",
    "\n",
    "This equation then allows us to calculate $\\phi(x,t)$ by taking incremental steps in time and iteratively calculating the new updated $\\phi$ at each time step. This technique is known as the forward-time centered-space method (FTCS). \n",
    "\n",
    "Below, we will explore implementing the FCTS method for calculating the time dependence of the temperature of a block that is subjected to boundary conditions of fixed temperature, illustrated here schematically:\n",
    "\n",
    "<img src=resource/asnlib/public/thermal_gradient.png width=50%></img>\n",
    "\n",
    "**Exercise 1:** A steel block that is 1 cm thick has an initial temperture of 20 degrees Celcius. At time $t=0$, it is sandwiched between a cold bath at a temperature of 0 degrees at $x = 1$ cm, and a hot bath at a temperature of 50 degrees at $x = 0$. Calculate the time dependence of the temperature profile inside the steel block. \n",
    "\n",
    "The thermal diffusivity D for steel is $4.25 \\times 10^{-6}$ m$^2$/s. Perform your computation for a grid of points in spacial coodinate $x$ that runs from 0 to 1 cm with a total of `Nx` = 100 point in space. Calculate the profile for times from $t=0$ to $t=2$ seconds with `Nt` = 10$^4$ points in time. "
   ]
  },
  {
   "cell_type": "code",
   "execution_count": null,
   "metadata": {},
   "outputs": [],
   "source": [
    "# Physical constants\n",
    "D = 4.25e-6\n",
    "\n",
    "# Our spatial axis\n",
    "L = 0.01 \n",
    "Nx = 100\n",
    "\n",
    "# x = np.linspace(...)\n",
    "# dx = ...\n",
    "###\n",
    "### Your code here\n",
    "###\n",
    "\n",
    "\n",
    "\n",
    "# Our time axis\n",
    "tf = 2\n",
    "Nt = int(1e4)\n",
    "\n",
    "# t = np.linspace(...,...,...)\n",
    "# dt = t[...]\n",
    "###\n",
    "### Your code here\n",
    "###\n",
    "\n",
    "\n",
    "\n",
    "# A matrix to store the time and spatial dependence\n",
    "# of the temperature.\n",
    "# This will be a matrix of size (N_t, N_x). \n",
    "# T[i,j] is then T for time t[i] and position x[j]\n",
    "T = np.zeros([Nt, Nx])\n",
    "\n",
    "# Our initial condibtion (uniform constant temperature)\n",
    "# T[...] = 20\n",
    "###\n",
    "### Your code here\n",
    "###\n",
    "\n",
    "\n",
    "# The temperature at x=0 should be fixed at 50 for all times. \n",
    "# At x=L, the temperature should be fixed at 0 for all times. \n",
    "# T[...] = 50\n",
    "# T[...] = 0\n",
    "###\n",
    "### Your code here\n",
    "###\n",
    "\n",
    "\n",
    "\n",
    "# t1 = time()\n",
    "# for i in range(N_t-1):\n",
    "#     # Note that we don't update the boundaries at x=0 and x=L\n",
    "#     for j in range(...,...):\n",
    "#         T[i+1,j] = T[i,j] + ... \n",
    "# t2 = time()\n",
    "###\n",
    "### Your code here\n",
    "###\n",
    "\n",
    "\n",
    "\n",
    "print(\"Total calculation time: %.2f seconds\" % (t2-t1))\n",
    "\n",
    "answer_14_1_1 = T.copy()"
   ]
  },
  {
   "cell_type": "code",
   "execution_count": null,
   "metadata": {
    "deletable": false,
    "editable": false
   },
   "outputs": [],
   "source": [
    "question = \"answer_14_1\"\n",
    "num = 1\n",
    "\n",
    "to_check = [question + \"_%d\" % (n+1) for n in range(num)]\n",
    "feedback = \"\"\n",
    "passed = True\n",
    "for var in to_check:\n",
    "    res, msg = check_answer(eval(var), var)\n",
    "    passed = passed and res\n",
    "    print(msg); feedback += msg + \"n\"\n",
    "\n",
    "assert passed == True, feedback"
   ]
  },
  {
   "cell_type": "markdown",
   "metadata": {
    "deletable": false,
    "editable": false
   },
   "source": [
    "Let's take a look at the results. One way we can do this is using an interactive widget:"
   ]
  },
  {
   "cell_type": "code",
   "execution_count": null,
   "metadata": {},
   "outputs": [],
   "source": [
    "# Notebook code\n",
    "from ipywidgets import interact\n",
    "\n",
    "tc = 0\n",
    "plt.subplots(figsize=(9.5,4))\n",
    "plt.subplot(121)\n",
    "lims = (t[0], t[-1], x[0], x[-1])\n",
    "plt.imshow(np.flip(T,axis=1).T, aspect='auto', extent=[t[0], t[-1], x[0], x[-1]],cmap='RdBu_r')\n",
    "line1, = plt.plot((t[tc],t[tc]),(x[0],x[-1]), color='w', ls=':')\n",
    "plt.ylabel(\"x (m)\")\n",
    "plt.xlabel(\"t (s)\")\n",
    "plt.subplot(122)\n",
    "line2, = plt.plot(x,T[tc,:], label=\"t = %.2f sec\" % t[tc])\n",
    "line2, = plt.plot(x,T[tc,:], label=\"t = %.2f sec\" % t[tc])\n",
    "plt.ylabel(\"Temperature (C)\")\n",
    "plt.xlabel(\"x (m)\")\n",
    "plt.legend()\n",
    "\n",
    "def explore_plot(tc=0):\n",
    "    line1.set_data((t[tc],t[tc]),(x[0],x[-1]))\n",
    "    line2.set_data(x,T[tc,:])\n",
    "    line2.set_label(\"t = %.2f sec\" % t[tc])\n",
    "    plt.legend()\n",
    "    \n",
    "interact(explore_plot, tc=(0,len(t)-1,100))"
   ]
  },
  {
   "cell_type": "markdown",
   "metadata": {
    "deletable": false,
    "editable": false
   },
   "source": [
    "Another way to visualize this is with an animation. The following two code cells allow you to create an animation of the temperature profile as a function of time."
   ]
  },
  {
   "cell_type": "code",
   "execution_count": null,
   "metadata": {},
   "outputs": [],
   "source": [
    "%matplotlib inline\n",
    "plt.rcParams['figure.dpi'] = 100"
   ]
  },
  {
   "cell_type": "code",
   "execution_count": null,
   "metadata": {},
   "outputs": [],
   "source": [
    "%%capture\n",
    "# We need the above notebook \"magic\" to prevent an extra empty plot from being created.\n",
    "# It also needs to be on the first line of the code cell.\n",
    "\n",
    "# We have 10^4 points, but for our animation, 100 frames is enough. \n",
    "# (If we try to animate all 10^4 frames, it will take forever to create\n",
    "# the animation object)\n",
    "\n",
    "frames = 100\n",
    "skip = Nt // frames\n",
    "\n",
    "fig, ax = plt.subplots()\n",
    "line, = ax.plot(x,T[0,:]);\n",
    "plt.ylabel(\"T (deg C)\")\n",
    "plt.xlabel(\"Distance x (m)\")\n",
    "title = plt.title(\"t = %s seconds\" % t[0])\n",
    "\n",
    "def animate(i):\n",
    "    i=i*skip\n",
    "    title.set_text(\"t = %.2f seconds\" % t[i])\n",
    "    line.set_data(x,T[i,:])\n",
    "\n",
    "anim = matplotlib.animation.FuncAnimation(fig, animate, frames=len(t)//skip, interval=40);"
   ]
  },
  {
   "cell_type": "code",
   "execution_count": null,
   "metadata": {
    "deletable": false,
    "editable": false
   },
   "outputs": [],
   "source": [
    "anim"
   ]
  },
  {
   "cell_type": "markdown",
   "metadata": {
    "deletable": false,
    "editable": false
   },
   "source": [
    "## Applying the FTCS method to the wave equation\n",
    "\n",
    "Another common initial-value problem that arises with partial differential equations is the wave equation. An example of a common wave equation is that for the vertical displacements $u$ of a string as a function of the horizontal position $x$ and time $t$: \n",
    "\n",
    "<img src=./resource/asnlib/public/string.png width=50%></img>\n",
    "\n",
    "which obey the equation: \n",
    "\n",
    "$$\n",
    "\\frac{\\partial^2 u}{\\partial t^2} = c^2 \n",
    "\\frac{\\partial^2 u}{\\partial x^2}\n",
    "$$\n",
    "\n",
    "where $c$ is the wave velocity of the string. How do solve this equation? Like we did for ODEs, we will split the second order derivative in time into two first order derivatives by introducing a new variable:\n",
    "\n",
    "$$\n",
    "v(t,x) \\equiv \\frac{\\partial u}{\\partial t}\n",
    "$$\n",
    "\n",
    "Physically, $v$ represents the vertical velocity of the vibrating string. Doing so, we can split the equation above that has a second-order derivative in time into two, coupled equations that have only first-order derivatives in time:\n",
    "\n",
    "\\begin{eqnarray}\n",
    "\\frac{du}{dt} & = & v \\\\\n",
    "\\frac{dv}{dt} & = & c^2 \\frac{\\partial^2 u}{\\partial x^2} \\\\\n",
    "\\end{eqnarray}\n",
    "\n",
    "Using Euler's method for this, and using the finite difference approximation for the second derivative with respect to $x$, we can derive the following two update equations that for $u$ and $v$: \n",
    "\n",
    "\\begin{eqnarray}\n",
    "u(x,t+dt) & = & u(x,t) + v(x,t) dt \\\\\n",
    "v(x,t+dt) & = & v(x,t) + \\frac{c^2 \\cdot dt}{(dx)^2} [u(x+dx,t) + u(x-dx,t) - 2u(x,t)]\n",
    "\\end{eqnarray}\n",
    "\n",
    "which, in principle, we can solve using the FTCS method as we did above for the diffusion equation.\n",
    "\n",
    "**Exercise 2:** Fill in the code below to solve the wave equation for a vibrating string using the FTCS method. Take $c = 1$ m/s and consider a string of length $L$. For your $x$ coordinate, use a grid with `Nx` = 100 points. \n",
    "\n",
    "For you $t$ coordinate, run your simulation for 1.2 seconds with 550 points in your time array. Consider an initial displacement $x(x,t=0) = \\sin(\\pi x/L)$ and an initial velocity $v(x,t=0) = 0$. "
   ]
  },
  {
   "cell_type": "code",
   "execution_count": null,
   "metadata": {},
   "outputs": [],
   "source": [
    "# The wave velocity in the string\n",
    "c = 1 # m/s\n",
    "\n",
    "# Positions along the length of the string\n",
    "# Let's make it 1 m long\n",
    "L = 1\n",
    "Nx = 100\n",
    "# x = np.linspace(...)\n",
    "###\n",
    "### Your code here\n",
    "###\n",
    "\n",
    "\n",
    "dx = x[1]\n",
    "\n",
    "# Our time axis\n",
    "# Let's make it 1.2 seconds long\n",
    "Nt = 550\n",
    "tf = 1.2\n",
    "# t = np.linspace(...)\n",
    "###\n",
    "### Your code here\n",
    "###\n",
    "\n",
    "dt = t[1]\n",
    "\n",
    "# A matrix for tracking the vertical displacement of the string\n",
    "# and the vertical velocity v = du/dt\n",
    "# u = np.zeros(...)\n",
    "# v = np.zeros(...)\n",
    "###\n",
    "### Your code here\n",
    "###\n",
    "\n",
    "\n",
    "# Our initial condibtion (uniform constant temperature)\n",
    "u[0,:] = np.sin(np.pi*x/L)\n",
    "v[0,:] = 0\n",
    "\n",
    "# Make sure the boundary conditions are inforced\n",
    "u[:,[0,-1]] = 0\n",
    "v[:,[0,-1]] = 0\n",
    "\n",
    "t1 = time()\n",
    "for i in range(Nt-1):\n",
    "    for j in range(1,Nx-1):\n",
    "        #u[i+1,j] = ...\n",
    "        #v[i+1,j] = ...\n",
    "        ###\n",
    "### Your code here\n",
    "###\n",
    "\n",
    "\n",
    "t2 = time()\n",
    "\n",
    "print(\"Total calculation time: %.2f seconds\" % (t2-t1))\n",
    "\n",
    "answer_14_2_1 = u.copy()\n",
    "answer_14_2_2 = v.copy()"
   ]
  },
  {
   "cell_type": "code",
   "execution_count": null,
   "metadata": {
    "deletable": false,
    "editable": false
   },
   "outputs": [],
   "source": [
    "question = \"answer_14_2\"\n",
    "num = 2\n",
    "\n",
    "to_check = [question + \"_%d\" % (n+1) for n in range(num)]\n",
    "feedback = \"\"\n",
    "passed = True\n",
    "for var in to_check:\n",
    "    res, msg = check_answer(eval(var), var)\n",
    "    passed = passed and res\n",
    "    print(msg); feedback += msg + \"n\"\n",
    "\n",
    "assert passed == True, feedback"
   ]
  },
  {
   "cell_type": "markdown",
   "metadata": {
    "deletable": false,
    "editable": false
   },
   "source": [
    "Let's animate your results:"
   ]
  },
  {
   "cell_type": "code",
   "execution_count": null,
   "metadata": {},
   "outputs": [],
   "source": [
    "%%capture\n",
    "\n",
    "frames = 100\n",
    "skip = Nt // frames\n",
    "\n",
    "fig, ax = plt.subplots()\n",
    "line, = ax.plot(x,u[0,:])\n",
    "plt.ylim(-1.2,1.2)\n",
    "plt.ylabel(\"Displacement u (m)\")\n",
    "plt.xlabel(\"Distance x (m)\")\n",
    "title = plt.title(\"t = %s seconds\" % t[0])\n",
    "\n",
    "def animate(i):\n",
    "    i=i*skip\n",
    "    title.set_text(\"t = %.4f seconds\" % t[i])\n",
    "    line.set_data(x,u[i,:])\n",
    "\n",
    "    \n",
    "anim = matplotlib.animation.FuncAnimation(fig, animate, frames=frames, interval=80);"
   ]
  },
  {
   "cell_type": "code",
   "execution_count": null,
   "metadata": {
    "deletable": false,
    "editable": false
   },
   "outputs": [],
   "source": [
    "anim"
   ]
  },
  {
   "cell_type": "markdown",
   "metadata": {
    "deletable": false,
    "editable": false
   },
   "source": [
    "Clearly, the FTCS method does not work so well for the wave equation!"
   ]
  },
  {
   "cell_type": "markdown",
   "metadata": {
    "deletable": false,
    "editable": false
   },
   "source": [
    "## Spectral Method\n",
    "\n",
    "A very efficient way to solve the wave equation above is one that you are already (or should be) *very* familiar with from quantum mechanics from solving the Schroedinger equation! (Although you may not know it's name...)\n",
    "\n",
    "This method is called the \"spectral method\". The idea is that the linear wave equation above can be solved using separation of variables, which leads to two separate equations, one in time and the other in space, which you can solve separately.\n",
    "\n",
    "The solutions of the spatial equation that results from the separation of variables gives you the shapes of the <a href=https://en.wikipedia.org/wiki/Normal_mode>normal modes</a>, or in quantum mechanics, the eigenmodes. \n",
    "\n",
    "The behaviour of eigenmodes in time is very simple: they always have the same shape but they oscillate in time. If you initial condition is an eigenmode, then your time dependence is very simple!\n",
    "\n",
    "To find the time dependent behaviour of **any** initial condition, the idea is to write the initial position and velocity as a superposition of the normal modes. To get the solution at any time in the future, you can keep the same coefficients but add the specific sinusoidal oscillations for each mode!\n",
    "\n",
    "In general, to find the eigenmodes, you have to first solve the spatial part of the equation: in quantum mechanics 1 (TN2304), this is what you spend a lot of time doing for different examples of $V(x)$. \n",
    "\n",
    "We will consider again the example of our vibrating string, fixed at two ends. In this case, the eigenmodes are defined by the following equation:\n",
    "\n",
    "$$\n",
    "c^2 \n",
    "\\frac{\\partial^2 u}{\\partial x^2} = \\lambda u\n",
    "$$\n",
    "\n",
    "This equation (the same as that for the wave function of the infinite square well) has solutions we know: these are sine functions! Thus, we need to write our initial displacement, and initial velocity, as a superposition of sine functions (see also Newman section 9.3.4 for a good explanation), and then we can find $u(x,t)$ for all times! If $u_k(0)$ and $v_k(0)$ are the Fourier coefficients at at $t = 0$, then Fourier coefficient $u_k(t)$ at at a time $t$ later is given by:\n",
    "\n",
    "$$\n",
    "u_k(t) = u_k(0) \\cos(\\omega_k t) + v_k(0) \\sin(\\omega_k t)\n",
    "$$\n",
    "\n",
    "with \n",
    "\n",
    "$$\n",
    "\\omega_k = \\frac{\\pi c k}{L}\n",
    "$$\n",
    "\n",
    "and $k$ is the index of the Fourier sine coefficient (starting from 1). We can then find $u(x,t)$ by just taking the inverse Fourier sine transform of $u_k(t)$.\n",
    "\n",
    "The decomposition of a function into sine waves is a common task (it is actually a Discrete Sine Transform (DST), a type of Fourier transform!). Fortunately, there are pre-programmed functions built into the `scipy` package for the DST, and for the inverse DST, which can help save us the time of coding them ourselves:\n",
    "\n",
    "https://docs.scipy.org/doc/scipy/reference/generated/scipy.fftpack.dst.html\n",
    "\n",
    "One confusing aspect of the DST is that there are many different \"types\", which have slighly different conventions of the offsets and endpoints of the sine waves used in the transform. The one we will use is the on of \"type I\"\n",
    "\n",
    "One peculiarity of the routines is that none of them include the \"fixed\" endpoints of our string at $x=0$ and $x=L$: since we want to have them in our function, we will have to take them off for performing the transform, and put them back on when we are done. Another confusing thing is that the inverse transform when using \"type I\" is not normalized. As all of these are quite inconvenient, we will build some \"wrapper functions\" around these to fix these for our purposes."
   ]
  },
  {
   "cell_type": "code",
   "execution_count": null,
   "metadata": {
    "deletable": false,
    "editable": false
   },
   "outputs": [],
   "source": [
    "# Notebook code\n",
    "\n",
    "def my_dst(u):\n",
    "    return dst(u[1:-1], type=1)\n",
    "\n",
    "def my_idst(uk):\n",
    "    u = np.zeros(len(uk)+2)\n",
    "    u[1:-1] = idst(uk, type=1)/2/(len(uk)+1)\n",
    "    return u"
   ]
  },
  {
   "cell_type": "markdown",
   "metadata": {
    "deletable": false,
    "editable": false
   },
   "source": [
    "**Exercise 3:** Implement the spectral method to find $u(x,t)$ for the the problem of exercise 2. At the end of your code, implement a function that calculates $u(x,t)$, and use this to find $u(x,10)$. "
   ]
  },
  {
   "cell_type": "code",
   "execution_count": null,
   "metadata": {},
   "outputs": [],
   "source": [
    "# The wave velocity in the string\n",
    "c = 1 # m/s\n",
    "\n",
    "# Positions along the length of the string\n",
    "# Let's make it 1 m long\n",
    "L = 1\n",
    "Nx = 100\n",
    "x = np.linspace(0,L,Nx)\n",
    "dx = x[1]\n",
    "\n",
    "# Our initial condibtion. u = vertical displacement, v = du/dt\n",
    "u0 = np.sin(np.pi*x/L)\n",
    "v0 = np.zeros(Nx)\n",
    "\n",
    "# Calculate the Fourier coefficients of the initial condition\n",
    "\n",
    "# uk0 = my_dst(...)\n",
    "# vk0 = my_dst(...)\n",
    "###\n",
    "### Your code here\n",
    "###\n",
    "\n",
    "\n",
    "# k = ...\n",
    "# w = ...\n",
    "###\n",
    "### Your code here\n",
    "###\n",
    "\n",
    "\n",
    "def calc_u(t):\n",
    "    #uk = ...\n",
    "    ###\n",
    "### Your code here\n",
    "###\n",
    "\n",
    "    return my_idst(uk)\n",
    "\n",
    "answer_14_3_1 = uk0.copy()\n",
    "answer_14_3_2 = vk0.copy()\n",
    "answer_14_3_3 = k.copy()\n",
    "answer_14_3_4 = w.copy()\n",
    "answer_14_3_5 = calc_u(10).copy()"
   ]
  },
  {
   "cell_type": "code",
   "execution_count": null,
   "metadata": {
    "deletable": false,
    "editable": false
   },
   "outputs": [],
   "source": [
    "question = \"answer_14_3\"\n",
    "num = 5\n",
    "\n",
    "to_check = [question + \"_%d\" % (n+1) for n in range(num)]\n",
    "feedback = \"\"\n",
    "passed = True\n",
    "for var in to_check:\n",
    "    res, msg = check_answer(eval(var), var)\n",
    "    passed = passed and res\n",
    "    print(msg); feedback += msg + \"n\"\n",
    "\n",
    "assert passed == True, feedback"
   ]
  },
  {
   "cell_type": "markdown",
   "metadata": {
    "deletable": false,
    "editable": false
   },
   "source": [
    "We can also check the animation:"
   ]
  },
  {
   "cell_type": "code",
   "execution_count": null,
   "metadata": {},
   "outputs": [],
   "source": [
    "%%capture\n",
    "\n",
    "frames=100\n",
    "t = np.linspace(0,2,frames)\n",
    "u = calc_u(0)\n",
    "fig, ax = plt.subplots()\n",
    "line, = ax.plot(x,u)\n",
    "plt.ylim(-1.2,1.2)\n",
    "plt.ylabel(\"Displacement u (m)\")\n",
    "plt.xlabel(\"Distance x (m)\")\n",
    "title = plt.title(\"t = %s seconds\" % t[0])\n",
    "\n",
    "def animate(i):\n",
    "    title.set_text(\"t = %.4f seconds\" % t[i])\n",
    "    line.set_data(x,calc_u(t[i]))\n",
    "\n",
    "anim = matplotlib.animation.FuncAnimation(fig, animate, frames=frames, interval=20);"
   ]
  },
  {
   "cell_type": "code",
   "execution_count": null,
   "metadata": {},
   "outputs": [],
   "source": [
    "# Notebook code\n",
    "anim"
   ]
  },
  {
   "cell_type": "markdown",
   "metadata": {
    "deletable": false,
    "editable": false
   },
   "source": [
    "Finally, this is a fun initial condition!"
   ]
  },
  {
   "cell_type": "code",
   "execution_count": null,
   "metadata": {},
   "outputs": [],
   "source": [
    "# Notebook code \n",
    "\n",
    "u0 = np.exp(-(x-0.2)**2*500)\n",
    "v0 = np.zeros(Nx)\n",
    "\n",
    "uk0 = my_dst(u0)\n",
    "vk0 = my_dst(v0)"
   ]
  },
  {
   "cell_type": "code",
   "execution_count": null,
   "metadata": {},
   "outputs": [],
   "source": [
    "%%capture\n",
    "\n",
    "# Notebook code \n",
    "\n",
    "frames=100\n",
    "t = np.linspace(0,2,frames)\n",
    "u = calc_u(0)\n",
    "fig, ax = plt.subplots()\n",
    "line, = ax.plot(x,u)\n",
    "plt.ylim(-1.2,1.2)\n",
    "plt.ylabel(\"Displacement u (m)\")\n",
    "plt.xlabel(\"Distance x (m)\")\n",
    "title = plt.title(\"t = %s seconds\" % t[0])\n",
    "\n",
    "def animate(i):\n",
    "    title.set_text(\"t = %.4f seconds\" % t[i])\n",
    "    line.set_data(x,calc_u(t[i]))\n",
    "\n",
    "anim = matplotlib.animation.FuncAnimation(fig, animate, frames=frames, interval=40);"
   ]
  },
  {
   "cell_type": "code",
   "execution_count": null,
   "metadata": {
    "deletable": false,
    "editable": false
   },
   "outputs": [],
   "source": [
    "# Notebook code\n",
    "anim"
   ]
  }
 ],
 "metadata": {},
 "nbformat": 4,
 "nbformat_minor": 2
}
