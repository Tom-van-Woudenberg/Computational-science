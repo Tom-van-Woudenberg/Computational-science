{
 "cells": [
  {
   "cell_type": "markdown",
   "metadata": {},
   "source": [
    "# Additional Programming Concepts in Python - Optional\n",
    "\n",
    "In this notebook, you will learn about additional programming concepts in Python. They are not part of the learning objectives of the course, but you may run into them at some point, or wonder what they are, or find them fun and useful if you already have some programming experience. \n",
    "\n",
    "The topics we will cover include: \n",
    "\n",
    "* More about data types\n",
    "* More matrix routines\n",
    "* Mutable objects and \"call by reference\"\n",
    "* Interactive plots with `ipywidgets`\n",
    "* More about functions"
   ]
  },
  {
   "cell_type": "markdown",
   "metadata": {},
   "source": [
    "## More about data types\n",
    "\n",
    "In the course, we have seen the basic data types in python (`int`, `float`, `complex`, `bool`, `string`), along with a more sophisticated one (numpy `arrays`). These are the ones most commonly used in scientific computing. \n",
    "\n",
    "In the python language, there are also some other data types that come up often, which you can read more about here:\n",
    "\n",
    "* Tuples\n",
    "* Lists\n",
    "* Dictionaries\n",
    "* Strings (there is more than meets the eye)\n",
    "\n",
    "### Tuples\n",
    "\n",
    "#### What is a tuple?\n",
    "\n",
    "The first more complicated data structure we will discuss is a `tuple`. A tuple is a collection of values inside curved brackets. Here is the basic syntax for making a tuple: \n",
    "\n",
    "```\n",
    "my_tuple = (a, b, c, ...etc...)\n",
    "```\n",
    "\n",
    "As a concrete example, this will create a tuple of three integers:"
   ]
  },
  {
   "cell_type": "code",
   "execution_count": null,
   "metadata": {},
   "outputs": [],
   "source": [
    "tup1 = (5,6,7)\n",
    "print(tup1)"
   ]
  },
  {
   "cell_type": "markdown",
   "metadata": {},
   "source": [
    "Like the other data types we've see, we can see the tuples we create using `%whos`:"
   ]
  },
  {
   "cell_type": "code",
   "execution_count": null,
   "metadata": {},
   "outputs": [],
   "source": [
    "%whos"
   ]
  },
  {
   "cell_type": "markdown",
   "metadata": {},
   "source": [
    "Tuples are like lists, but behave a bit differently than python lists. In fact, we've already seen tuples before in the previous notebook when we were looking at `for` loops!\n",
    "\n",
    "If you are given a tuple, you can check how long it by using the `len()` function built into python:"
   ]
  },
  {
   "cell_type": "code",
   "execution_count": null,
   "metadata": {},
   "outputs": [],
   "source": [
    "len(tup1)"
   ]
  },
  {
   "cell_type": "markdown",
   "metadata": {},
   "source": [
    "Note that tuples do not have to contain integers, they can contain any type of data:"
   ]
  },
  {
   "cell_type": "code",
   "execution_count": null,
   "metadata": {},
   "outputs": [],
   "source": [
    "# A tuple of strings\n",
    "str_tup = ('foo', 'bar')\n",
    "print(str_tup)"
   ]
  },
  {
   "cell_type": "markdown",
   "metadata": {},
   "source": [
    "Different than how numpy arrays are typically used, tuples can even be mixed, with each element of a different type:"
   ]
  },
  {
   "cell_type": "code",
   "execution_count": null,
   "metadata": {},
   "outputs": [],
   "source": [
    "mixed_tup = (1, 1.05, 7+3j, 'foo')\n",
    "print(mixed_tup)"
   ]
  },
  {
   "cell_type": "markdown",
   "metadata": {},
   "source": [
    "And you can even have tuples of tuples:"
   ]
  },
  {
   "cell_type": "code",
   "execution_count": null,
   "metadata": {},
   "outputs": [],
   "source": [
    "tup_of_tup = (str_tup, mixed_tup)\n",
    "print(tup_of_tup)"
   ]
  },
  {
   "cell_type": "markdown",
   "metadata": {},
   "source": [
    "Tuples support all the same indexing and slicing as arrays. "
   ]
  },
  {
   "cell_type": "markdown",
   "metadata": {},
   "source": [
    "Tuples can also contain other tuples! If your tuple contains another tuple, like the example `tup_of_tup`, you can use the square brackets a second time to index into the tuple you extract by the first set of square brackets:"
   ]
  },
  {
   "cell_type": "code",
   "execution_count": null,
   "metadata": {},
   "outputs": [],
   "source": [
    "print(tup_of_tup)\n",
    "print(tup_of_tup[0])\n",
    "print(tup_of_tup[0][0])"
   ]
  },
  {
   "cell_type": "markdown",
   "metadata": {},
   "source": [
    "#### Looping over tuples without using indices\n",
    "\n",
    "As mentioned briefly in Notebook 2, python `for` loops can also directly iterate over \"iteratable\" objects. \n",
    "\n",
    "The `tuple` (along with lists, which we will see in a bit, and numpy arrays, which we will see in the next notebook), is one such iteratable objecte. \n",
    "\n",
    "For example, to print all of entries of a `tuple` out in order, we can use directly following:\n"
   ]
  },
  {
   "cell_type": "code",
   "execution_count": null,
   "metadata": {},
   "outputs": [],
   "source": [
    "for n in tup1:\n",
    "    print(n)"
   ]
  },
  {
   "cell_type": "markdown",
   "metadata": {},
   "source": [
    "During each subsequent iteartion of the loop, the variable `n` will be assigned to the next item that is stored in the tuple. "
   ]
  },
  {
   "cell_type": "markdown",
   "metadata": {},
   "source": [
    "### Lists\n",
    "\n",
    "In this section, we will introduce a very commonly used data structure in python: the `list`. \n",
    "\n",
    "A list is a list of values, like a `tuple`, but that is made using square brackets:\n",
    "\n",
    "```\n",
    "my_list = [a, b, c, ...etc...]\n",
    "```"
   ]
  },
  {
   "cell_type": "code",
   "execution_count": null,
   "metadata": {},
   "outputs": [],
   "source": [
    "l1 = list(range(10))\n",
    "l1"
   ]
  },
  {
   "cell_type": "markdown",
   "metadata": {},
   "source": [
    "Like tuples, you can extract single elements of the list using indexing, and extract portions of the list using slicing:"
   ]
  },
  {
   "cell_type": "code",
   "execution_count": null,
   "metadata": {},
   "outputs": [],
   "source": [
    "print(l1[0])\n",
    "print(l1[0:5])"
   ]
  },
  {
   "cell_type": "markdown",
   "metadata": {},
   "source": [
    "OK, so far so good. But if I have `tuple`, why would I ever want a list?\n",
    "\n",
    "#### Lists vs tupples: Tupples are \"immutable\", lists are \"mutable\"\n",
    "\n",
    "This is a bit of python-speak for saying that you cannot change the values of a tupple, but you can change the values of a list.\n",
    "\n",
    "What does this mean? It means if I have a list `[5,6,7]` and I want to change the last number in my list to an 8, I can just directly do this:"
   ]
  },
  {
   "cell_type": "code",
   "execution_count": null,
   "metadata": {},
   "outputs": [],
   "source": [
    "l1 = [5,6,7]\n",
    "l1[2] = 8"
   ]
  },
  {
   "cell_type": "markdown",
   "metadata": {},
   "source": [
    "If I try this with a tuple, I will find that I can't do it!"
   ]
  },
  {
   "cell_type": "code",
   "execution_count": null,
   "metadata": {},
   "outputs": [],
   "source": [
    "t1 = (5,6,7)\n",
    "t1[2] = 8"
   ]
  },
  {
   "cell_type": "markdown",
   "metadata": {},
   "source": [
    "Because of this functionality, **lists are much more powerful as we can change them once we've made them!**\n",
    "\n",
    "In addition to changing lists by individual indexing, we can also change whole parts of the list using slicing:"
   ]
  },
  {
   "cell_type": "code",
   "execution_count": null,
   "metadata": {},
   "outputs": [],
   "source": [
    "l2 = list(range(10))\n",
    "print(l2)"
   ]
  },
  {
   "cell_type": "code",
   "execution_count": null,
   "metadata": {},
   "outputs": [],
   "source": [
    "# Replace three entries by zeros\n",
    "l2 = list(range(10))\n",
    "l2[4:7] = [0,0,0]\n",
    "print(l2)"
   ]
  },
  {
   "cell_type": "code",
   "execution_count": null,
   "metadata": {},
   "outputs": [],
   "source": [
    "# Remove entries from a list by replacing them with an empty list []\n",
    "l2 = list(range(10))\n",
    "l2[4:7] = [] \n",
    "print(l2)"
   ]
  },
  {
   "cell_type": "markdown",
   "metadata": {},
   "source": [
    "#### Functions for manipulating lists\n",
    "\n",
    "In fact, our list object itself has functions built in that allow you to change it! Some examples of things we can do:"
   ]
  },
  {
   "cell_type": "code",
   "execution_count": null,
   "metadata": {},
   "outputs": [],
   "source": [
    "# This will add an element to the end of the list\n",
    "l1.append(10)\n",
    "l1"
   ]
  },
  {
   "cell_type": "code",
   "execution_count": null,
   "metadata": {},
   "outputs": [],
   "source": [
    "# This will remove an element from the end of the list\n",
    "l1.pop()\n",
    "l1"
   ]
  },
  {
   "cell_type": "markdown",
   "metadata": {},
   "source": [
    "There are many more functions built into lists, some of which you can find here:\n",
    "\n",
    "https://docs.python.org/3/tutorial/datastructures.html"
   ]
  },
  {
   "cell_type": "markdown",
   "metadata": {},
   "source": [
    "#### The problem with lists for scientific computing\n",
    "\n",
    "Lists look an awful lot like numpy arrays: why don't we just use lists? \n",
    "\n",
    "In scientific computing, it is very common to want to perform numerical operations on <a href=https://en.wikipedia.org/wiki/Row_and_column_vectors>vectors and matrices</a> of numbers. And also, many times in experiments, the data you will take will be represented by a vector of numbers: for example, the position of a particle as a function of time.\n",
    "\n",
    "A vector is a collection of numbers in a one-dimentional array:\n",
    "\n",
    "$$\n",
    "x = [1, 2, 3, 4, 5]\n",
    "$$\n",
    "\n",
    "In Notebook 3, we already introduced python `list`s. A list is also a vector, right? It certainly looks the same! Why do we need something new? \n",
    "\n",
    "The reason we need something new is that python `list`s are not designed to work in the same way as we expect vectors to from our mathematics classes. For example, in math:\n",
    "\n",
    "$$\n",
    "2x = [2,4,6,8,10]\n",
    "$$\n",
    "\n",
    "Let's check if this works with lists"
   ]
  },
  {
   "cell_type": "code",
   "execution_count": null,
   "metadata": {},
   "outputs": [],
   "source": [
    "l = [1, 2, 3, 4, 5]\n",
    "print(2*l)"
   ]
  },
  {
   "cell_type": "markdown",
   "metadata": {},
   "source": [
    "This certainly does something, but it does not do what we want! It has made the list twice as long by appending two of them together!\n",
    "\n",
    "Also addition and subtraction doesn't work like we would expect:"
   ]
  },
  {
   "cell_type": "code",
   "execution_count": null,
   "metadata": {},
   "outputs": [],
   "source": [
    "print(l+l)"
   ]
  },
  {
   "cell_type": "markdown",
   "metadata": {},
   "source": [
    "Addition makes the list twice as long? And:"
   ]
  },
  {
   "cell_type": "code",
   "execution_count": null,
   "metadata": {},
   "outputs": [],
   "source": [
    "print(l-l)"
   ]
  },
  {
   "cell_type": "markdown",
   "metadata": {},
   "source": [
    "And subtraction doesn't work at all...clearly, although they look a lot like vectors, in terms of mathematics, lists do not act much like vectors. This is one of the reasons numpy arrays were created."
   ]
  },
  {
   "cell_type": "markdown",
   "metadata": {},
   "source": [
    "### Dictionaries\n",
    "\n",
    "Another useful data type in python is a \"dictionary\":\n",
    "\n",
    "https://docs.python.org/3/tutorial/datastructures.html#dictionaries\n",
    "\n",
    "At a basic level, a dictionary is a bit like a list that supports non-numeric indices. Dictionaries can be created using the curly brackets in python `{` and `}`. \n",
    "\n",
    "Here we will create an empty dictionary and start filling it:"
   ]
  },
  {
   "cell_type": "code",
   "execution_count": null,
   "metadata": {},
   "outputs": [],
   "source": [
    "delft_lunch_rating = {}\n",
    "delft_lunch_rating['greek olive'] = 10\n",
    "delft_lunch_rating['brandmeester'] = 7\n",
    "delft_lunch_rating['aula'] = \"expensive\"\n",
    "delft_lunch_rating['citg'] = \"bad\"\n",
    "delft_lunch_rating['doner'] = \"good but a bit salty\""
   ]
  },
  {
   "cell_type": "markdown",
   "metadata": {},
   "source": [
    "This is what our dictionary looks like:"
   ]
  },
  {
   "cell_type": "code",
   "execution_count": null,
   "metadata": {},
   "outputs": [],
   "source": [
    "print(delft_lunch_rating)"
   ]
  },
  {
   "cell_type": "markdown",
   "metadata": {},
   "source": [
    "I can then look up values in my dictionary using the \"keys\":"
   ]
  },
  {
   "cell_type": "code",
   "execution_count": null,
   "metadata": {},
   "outputs": [],
   "source": [
    "delft_lunch_rating['aula']"
   ]
  },
  {
   "cell_type": "markdown",
   "metadata": {},
   "source": [
    "There are also functions for getting all the keys:"
   ]
  },
  {
   "cell_type": "code",
   "execution_count": null,
   "metadata": {},
   "outputs": [],
   "source": [
    "delft_lunch_rating.keys()"
   ]
  },
  {
   "cell_type": "markdown",
   "metadata": {},
   "source": [
    "My dictionaries can also hold lists if I want:"
   ]
  },
  {
   "cell_type": "code",
   "execution_count": null,
   "metadata": {},
   "outputs": [],
   "source": [
    "delft_lunch_rating[\"greek olive\"] = ['good', 10]"
   ]
  },
  {
   "cell_type": "markdown",
   "metadata": {},
   "source": [
    "Dictionaries are actually a way to implement a basic database in python (I use them in my grading scripts to look up the email addresses and student numbers of a given netid...)\n",
    "\n",
    "And the Jupyter notebook files actually store a list cells, and each cell consist of a dictionary that contains the text of the cell (and other fun things like metadata). You can see this in action using the <a href=https://nbformat.readthedocs.io/en/latest/api.html>nbformat</a> library, you can actually load a notebook file into your python kernel and poke around it to see what it looks like. "
   ]
  },
  {
   "cell_type": "markdown",
   "metadata": {},
   "source": [
    "### More about Strings\n",
    "\n",
    "In notebook 1, we already saw strings as variable types. \n",
    "\n",
    "It turns out that strings are not just simple (immutable) variables like `int`s and `float`s: `str`s are actually data structures that are indexable (like `tuple`s and `list`s). \n",
    "\n",
    "Strings are immutable, which means they cannot be changed. But they do have lots of built-in functions that can return a new string (or lots of other things!). \n",
    "\n",
    "Let's look at an example:"
   ]
  },
  {
   "cell_type": "code",
   "execution_count": null,
   "metadata": {},
   "outputs": [],
   "source": [
    "s1 = \"This is a string\""
   ]
  },
  {
   "cell_type": "markdown",
   "metadata": {},
   "source": [
    "Indexing a string returns the characters of the string:"
   ]
  },
  {
   "cell_type": "code",
   "execution_count": null,
   "metadata": {},
   "outputs": [],
   "source": [
    "print(s1[0])"
   ]
  },
  {
   "cell_type": "markdown",
   "metadata": {},
   "source": [
    "We can also slice:"
   ]
  },
  {
   "cell_type": "code",
   "execution_count": null,
   "metadata": {},
   "outputs": [],
   "source": [
    "print(s1[0:6])"
   ]
  },
  {
   "cell_type": "markdown",
   "metadata": {},
   "source": [
    "Strings do not allow you to directly change "
   ]
  },
  {
   "cell_type": "markdown",
   "metadata": {},
   "source": [
    "#### Built-in string functions\n",
    "\n",
    "Strings have a bunch of useful built-in functions: \n",
    "\n",
    "https://docs.python.org/3/library/stdtypes.html#string-methods\n",
    "\n",
    "some of which we will look at here:\n",
    "\n",
    "#### Splitting a string\n",
    "\n",
    "Strings have a built-in function `split()`. By default, it will return a list of \"words\" by using whitespaces as the separator:"
   ]
  },
  {
   "cell_type": "code",
   "execution_count": null,
   "metadata": {},
   "outputs": [],
   "source": [
    "s1.split()"
   ]
  },
  {
   "cell_type": "markdown",
   "metadata": {},
   "source": [
    "Passing `.` as an argument, `split()` will use that as a separator, which is useful for working with filenames:"
   ]
  },
  {
   "cell_type": "code",
   "execution_count": null,
   "metadata": {},
   "outputs": [],
   "source": [
    "input_file = 'myfile.dat'\n",
    "output_file = input_file.split('.')[0]\n",
    "output_file += \"_processed.dat\"\n",
    "print(output_file)"
   ]
  },
  {
   "cell_type": "markdown",
   "metadata": {},
   "source": [
    "#### Replacing parts of strings\n",
    "\n",
    "The function `replace()` replace substrings in your string for you:"
   ]
  },
  {
   "cell_type": "code",
   "execution_count": null,
   "metadata": {},
   "outputs": [],
   "source": [
    "s2 = \"This is a long sentence. It is a good idea to end it.\"\n",
    "print(s2)\n",
    "print(s2.replace(\" is\", \" was\"))"
   ]
  },
  {
   "cell_type": "markdown",
   "metadata": {},
   "source": [
    "Note that without the space, it will also replace the \"is\" in \"This\":"
   ]
  },
  {
   "cell_type": "code",
   "execution_count": null,
   "metadata": {},
   "outputs": [],
   "source": [
    "print(s2)\n",
    "print(s2.replace(\"is\", \"was\"))"
   ]
  },
  {
   "cell_type": "markdown",
   "metadata": {},
   "source": [
    "#### Testing for the contents of a string\n",
    "\n",
    "You can check if a substring is found inside a string using the `in` logical operator:"
   ]
  },
  {
   "cell_type": "code",
   "execution_count": null,
   "metadata": {},
   "outputs": [],
   "source": [
    "if \"this\" in \"somewhere in this sentence\":\n",
    "    print(\"We found a 'this'\")"
   ]
  },
  {
   "cell_type": "code",
   "execution_count": null,
   "metadata": {},
   "outputs": [],
   "source": [
    "# It is case sensitive:\n",
    "if \"this\" in \"This is a sentence\":\n",
    "    print(\"This will not get printed\")"
   ]
  },
  {
   "cell_type": "code",
   "execution_count": null,
   "metadata": {},
   "outputs": [],
   "source": [
    "# But you can use the .lower() function of a string to do case insensitive checks\n",
    "s3 = \"This is a sentence\"\n",
    "if \"this\" in s3.lower():\n",
    "    print(\"Using .lower(), s3 is converted to all lower-case:\\n\")\n",
    "    print(\"s3.lower = '%s'\\n\" % s3.lower())\n",
    "    print(\"And now we do find the substring 'this'\")"
   ]
  },
  {
   "cell_type": "markdown",
   "metadata": {},
   "source": [
    "Here, we can also see an example of special characters in strings: a `\\n` in a string specifies a \"new line\":\n",
    "\n",
    "https://docs.python.org/3/reference/lexical_analysis.html#strings\n",
    "\n",
    "Note that if you want to print a backslash `\\`, you need to put a double backslash in your string: `\\\\`."
   ]
  },
  {
   "cell_type": "markdown",
   "metadata": {},
   "source": [
    "#### String formatting\n",
    "\n",
    "Until now, we have been printing values of our variables using the standard `str()` conversion of numbers to strings:"
   ]
  },
  {
   "cell_type": "code",
   "execution_count": null,
   "metadata": {},
   "outputs": [],
   "source": [
    "a = 11/300\n",
    "print(\"The value of a is\", a)\n",
    "\n",
    "# The above print() statement is equivalent to:\n",
    "\n",
    "output = \"The value of a is\"\n",
    "output += \" \"\n",
    "output += str(a)\n",
    "print(output)"
   ]
  },
  {
   "cell_type": "markdown",
   "metadata": {},
   "source": [
    "But maybe we don't want so many digits in our text output. Say I want only two digits. How can I do this? \n",
    "\n",
    "For this, python supports \"string formatting\". My personal preference is to work with traditional \"printf-style\" formatting, inherited from the C programming language:\n",
    "\n",
    "https://docs.python.org/3/library/stdtypes.html#printf-style-bytes-formatting\n",
    "\n",
    "It sounds a bit scary at first, but it's actually pretty easy to use. It works by using a special operator `%` that works with strings. \n",
    "\n",
    "To use it, you include a special text in your string that starts with `%`, followed by a sequence of numbers and letters that you use to tell python how you want the string to be formatted. \n",
    "\n",
    "Here are some examples:"
   ]
  },
  {
   "cell_type": "code",
   "execution_count": null,
   "metadata": {},
   "outputs": [],
   "source": [
    "# Floating point format with 4 digits\n",
    "print(\"The value of a is %.4f\" % a)"
   ]
  },
  {
   "cell_type": "code",
   "execution_count": null,
   "metadata": {},
   "outputs": [],
   "source": [
    "# Exponential notation with two digits\n",
    "print(\"The value of a is %.2e\" % a)"
   ]
  },
  {
   "cell_type": "code",
   "execution_count": null,
   "metadata": {},
   "outputs": [],
   "source": [
    "# A string with the formatting not at the end\n",
    "print(\"The value of a is %.2e seconds\" % a)"
   ]
  },
  {
   "cell_type": "markdown",
   "metadata": {},
   "source": [
    "## Some additional matrix creation routines\n",
    "\n",
    "There are several functions for making matrices which you may find useful someday: \n",
    "\n",
    "https://docs.scipy.org/doc/numpy/reference/routines.array-creation.html\n",
    "\n",
    "including this one which I use often:"
   ]
  },
  {
   "cell_type": "code",
   "execution_count": null,
   "metadata": {},
   "outputs": [],
   "source": [
    "# The identity matrix\n",
    "print(np.eye(10))"
   ]
  },
  {
   "cell_type": "code",
   "execution_count": null,
   "metadata": {},
   "outputs": [],
   "source": [
    "# A band diagonal matrix\n",
    "print(np.eye(10,k=-1))"
   ]
  },
  {
   "cell_type": "markdown",
   "metadata": {},
   "source": [
    "## Mutable objects and \"call by reference\"\n",
    "\n",
    "### The `=` operator\n",
    "\n",
    "Now that we have introduced some more advanced data types, it is time to go back and revisit one of our first topics: the `=` opeartor.\n",
    "\n",
    "At the start of the first notebook, we introduced the **assignment operator** `=`, and saw that it could be used to give new values to a variable based on the value of another variable:"
   ]
  },
  {
   "cell_type": "code",
   "execution_count": null,
   "metadata": {},
   "outputs": [],
   "source": [
    "a = 5\n",
    "b = a\n",
    "print(b)"
   ]
  },
  {
   "cell_type": "markdown",
   "metadata": {},
   "source": [
    "What happens if we change the value of `a` after the statment `b = a`? For example:"
   ]
  },
  {
   "cell_type": "code",
   "execution_count": null,
   "metadata": {},
   "outputs": [],
   "source": [
    "a = 5\n",
    "b = a\n",
    "a = 6"
   ]
  },
  {
   "cell_type": "markdown",
   "metadata": {},
   "source": [
    "What value does `b` have? Does it have the value of `5` that `a` had when we performed the assignment operation, or does it have `6` (the new values of `a`)?  \n",
    "\n",
    "The obvious answer would be that `b` should have the answer `5`, right? Let's check it:"
   ]
  },
  {
   "cell_type": "code",
   "execution_count": null,
   "metadata": {},
   "outputs": [],
   "source": [
    "a = 5\n",
    "b = a\n",
    "a = 6\n",
    "print(b)"
   ]
  },
  {
   "cell_type": "markdown",
   "metadata": {},
   "source": [
    "OK, that seems to make sense. \n",
    "\n",
    "Now let's take a look at and examples with lists. We will create a list `a`, using the assignment operator to make a list variable `b = a`, and then change the values in the list `a`."
   ]
  },
  {
   "cell_type": "code",
   "execution_count": null,
   "metadata": {},
   "outputs": [],
   "source": [
    "a = [2,1]\n",
    "b = a\n",
    "a[0] = 1"
   ]
  },
  {
   "cell_type": "markdown",
   "metadata": {},
   "source": [
    "Now question: did `a[0] = 1` change the value of of `b`? Let's check:"
   ]
  },
  {
   "cell_type": "code",
   "execution_count": null,
   "metadata": {},
   "outputs": [],
   "source": [
    "print(b)"
   ]
  },
  {
   "cell_type": "markdown",
   "metadata": {},
   "source": [
    "Changing the values of `a` also changed list `b` for some reason? **WHY!!!!?????!!! WHAT IS GOING ON?!!?**\n",
    "\n",
    "### \"Call by value\" and \"Call by reference\"\n",
    "\n",
    "To understand what is going on here, we have to understand how computer programs store variables and their values. \n",
    "\n",
    "When I create a variable `a` in a python by giving it a value `5`, for example, python creates a space in your computers memory where it puts the value `5` and then makes a name for that variable `a` in the kernel's list of variables that points to that spot in memory. \n",
    "\n",
    "For some types of objects in python, specifically \"immutable\" (\"unchangeable\") object types, when you execute the statement `b = a`, python will create a new spot in your computers memory for variable `b`, copy the value `5` into that memory spot, and then makes variable `b` point to this new spot in the kernel's list of variables. \n",
    "\n",
    "This procedure is called \"call by value\" in programming languages, and is illustrated here: \n",
    "\n",
    "<img src=\"resource/asnlib/public/call_by_value.png\"></img>\n",
    "\n",
    "For \"mutable\" objects, python uses a different concept: \"call by reference\". In call by reference, `b = a` instead does the following: it make a new variable `b` in the list of variables, and make it point to the spot in memory where variable `a` is stored, illustrated here:\n",
    "\n",
    "<img src=\"resource/asnlib/public/call_by_reference.png\"></img>\n",
    "\n",
    "It is now obvious why changing the values in `a` will also changes the values in `b`: it is because they point to the same data in your computers memory.\n",
    "\n",
    "\"Call by reference\" also holds for when you are passing variables to functions:"
   ]
  },
  {
   "cell_type": "code",
   "execution_count": null,
   "metadata": {},
   "outputs": [],
   "source": [
    "def set_first_entry_to_zero(x):\n",
    "    x[0] = 0\n",
    "\n",
    "a = [1,2]\n",
    "set_first_entry_to_zero(a)\n",
    "print(a)"
   ]
  },
  {
   "cell_type": "markdown",
   "metadata": {},
   "source": [
    "We can see that our function changed the value of the variable mylist! This was not possible with integers for example:"
   ]
  },
  {
   "cell_type": "code",
   "execution_count": null,
   "metadata": {},
   "outputs": [],
   "source": [
    "def set_to_zero(x):\n",
    "    x = 0\n",
    "\n",
    "a = 1\n",
    "set_to_zero(a)\n",
    "print(a)"
   ]
  },
  {
   "cell_type": "markdown",
   "metadata": {},
   "source": [
    "### Why use \"call by reference\" at all? I find it confusing!\n",
    "\n",
    "You might ask: why python does this? Well, one reason is that it is that lists, and in particular numpy arrays that we will look at next, can sometime become very big, taking up 100 MB of memory or more. If python used \"call by value\" for such big things all the time, it would use up massive amounts of memory! Every function call or assignment statement would accdientally use up another 100 MB of memory! By using \"call by reference\", it can avoid accidentally filling up your computers memory every time you use the `=` operator. \n",
    "\n",
    "If you really want to have a *copy* of a list (or a numpy array), these objects typically have `copy()` functions built in that return instead a copy of the object, for when you really need one. "
   ]
  },
  {
   "cell_type": "code",
   "execution_count": null,
   "metadata": {},
   "outputs": [],
   "source": [
    "a = [2,1]\n",
    "b = a.copy()\n",
    "print(b)\n",
    "a[0] = 1\n",
    "print(b)"
   ]
  },
  {
   "cell_type": "markdown",
   "metadata": {},
   "source": [
    "Now, `b` is unaffected by your changes to `a` because the name `b` points to a new copy of the array in memory."
   ]
  },
  {
   "cell_type": "markdown",
   "metadata": {},
   "source": [
    "## Interactive plots with ipywidgets\n",
    "\n",
    "One of the cool things that is easy to do in Jupter notebooks is to make \"interactive\" plots. \n",
    "\n",
    "For example, in the projectile example above, I may want to be able to play with the angle and see how this changes my trajectory. For this, there is a very easy to use and convenient library called `ipywidgets`.\n",
    "\n",
    "The way it works is we make a function that generates our plot that takes the parameter we want to play with as an argument. We then call an `ipywidgets` function called `interact()`, and it will automatically make a \"live update\" plot in your web browser in which you can adjust the parameter an see how the plot changes. \n",
    "\n",
    "Let's look at an example:"
   ]
  },
  {
   "cell_type": "code",
   "execution_count": null,
   "metadata": {},
   "outputs": [],
   "source": [
    "from ipywidgets import interact\n",
    "\n",
    "v0 = 10 # m/s\n",
    "g = 9.8 # m/s^2\n",
    "\n",
    "# We will allow theta to be adjusted and start it at 45 degrees\n",
    "def update_plot(theta=45):\n",
    "    theta *= np.pi/180 # convert to radians\n",
    "    y = -g/(2*v0**2*np.cos(theta)**2)*x**2 + x*np.tan(theta)\n",
    "    plt.plot(x,y)\n",
    "    plt.ylim(-1,6) # Manually set the ylimits\n",
    "    plt.xlabel(\"Distance (m)\")\n",
    "    plt.ylabel(\"Height (m)\")\n",
    "    plt.axhline(0, ls=\":\", c=\"grey\")\n",
    "    plt.show()\n",
    "    \n",
    "# Now we call interact, and give it a tuple specifiying the min, max and step for the theta slider\n",
    "interact(update_plot, theta=(0,89,2))"
   ]
  },
  {
   "cell_type": "markdown",
   "metadata": {},
   "source": [
    "It is a bit slow in updating if you wiggle it too much with the mouse, but if you click on the slider and adjust it using the arrow keys on your keyboard, it works pretty well. \n",
    "\n",
    "If you are fitting a line to your data, this can also be very useful for getting a good initial guess:"
   ]
  },
  {
   "cell_type": "code",
   "execution_count": null,
   "metadata": {},
   "outputs": [],
   "source": [
    "def update_plot2(slope=0.5):\n",
    "    line = t*slope\n",
    "    plt.plot(t,v, '.')\n",
    "    plt.plot(t,line, lw=4)\n",
    "    plt.xlabel(\"Time (s)\")\n",
    "    plt.ylabel(\"Voltage (V)\")\n",
    "    plt.show()\n",
    "\n",
    "interact(update_plot2, slope=(0,10,0.1))"
   ]
  },
  {
   "cell_type": "markdown",
   "metadata": {},
   "source": [
    "It is also easy to make two sliders:"
   ]
  },
  {
   "cell_type": "code",
   "execution_count": null,
   "metadata": {},
   "outputs": [],
   "source": [
    "def update_plot3(slope=0.5, offset=0):\n",
    "    line = t*slope+offset\n",
    "    plt.plot(t,v, '.')\n",
    "    plt.plot(t,line, lw=4)\n",
    "    plt.xlabel(\"Time (s)\")\n",
    "    plt.ylabel(\"Voltage (V)\")\n",
    "    plt.show()\n",
    "\n",
    "interact(update_plot3, slope=(0,10,0.1), offset=(-4,3,0.2))"
   ]
  },
  {
   "cell_type": "markdown",
   "metadata": {},
   "source": [
    "## Functions\n",
    "\n",
    "### Keyword and optional arguments\n",
    "\n",
    "In addition to the \"positional\" arguments we introduced earlier, python also supports another type of argument: the \"keyword\" argument. These are often used for \"optional\" arguments that you don't neccessarily need but may want to give the user the option of using. The syntax is:\n",
    "\n",
    "```\n",
    "def function_name(var1, optional_var2 = default_value)\n",
    "    ...\n",
    "```\n",
    "\n",
    "The \"default_value\" is the value that the optional argument will have if it is not specified by the user. \n",
    "\n",
    "In python-speak, these \"optional\" arguement as called \"keyword\" arguments, and the normal arguments we introduced above are called \"positional\" arguments. In python, in both defining and using functions, keyword arguments must always come after all of the positional arguments. \n",
    "\n",
    "Here, we will show an example where we use an optional parameter to change the way we print the status sentence. "
   ]
  },
  {
   "cell_type": "code",
   "execution_count": null,
   "metadata": {},
   "outputs": [],
   "source": [
    "def print_status4(x, long=True):\n",
    "    if long:\n",
    "        print(\"The value of the first input variable is \", x)\n",
    "    else:\n",
    "        print(\"Val is \", x)\n",
    "\n",
    "print_status4(1)\n",
    "print_status4(2.5, long=True)\n",
    "print_status4(2.4, long=False)"
   ]
  },
  {
   "cell_type": "markdown",
   "metadata": {},
   "source": [
    "Because python assigns the value of keyword argument variables in the function by matching the keyword and not their position in the list, if you have multiple keyword arguments, you can also change the order of them when you use the function. \n",
    "\n",
    "For example, if I define a function:\n",
    "\n",
    "```\n",
    "def myfunction(x, var1=1, var2=4):\n",
    "    ...\n",
    "```\n",
    "\n",
    "then both of these would do the same thing:\n",
    "\n",
    "```\n",
    "myfunction(1,var1=3, var2=54)\n",
    "myfunction(1,var2=54, var2=3)\n",
    "```\n",
    "\n",
    "Finally, one can also use keywords as a way to send values to functions even if the functions are not defined with keyword arguments. This allows you to change to order of variables you send to a function if you  want. For example:"
   ]
  },
  {
   "cell_type": "code",
   "execution_count": null,
   "metadata": {},
   "outputs": [],
   "source": [
    "def myfun(x,y):\n",
    "    print(\"x is\", x)\n",
    "    print(\"y is\", y)    "
   ]
  },
  {
   "cell_type": "code",
   "execution_count": null,
   "metadata": {},
   "outputs": [],
   "source": [
    "myfun(1,2)"
   ]
  },
  {
   "cell_type": "code",
   "execution_count": null,
   "metadata": {},
   "outputs": [],
   "source": [
    "myfun(2,1)"
   ]
  },
  {
   "cell_type": "code",
   "execution_count": null,
   "metadata": {},
   "outputs": [],
   "source": [
    "myfun(x=1,y=2)"
   ]
  },
  {
   "cell_type": "code",
   "execution_count": null,
   "metadata": {},
   "outputs": [],
   "source": [
    "myfun(y=2,x=1)"
   ]
  },
  {
   "cell_type": "markdown",
   "metadata": {},
   "source": [
    "### Python Error Messages with functions\n",
    "\n",
    "In the first notebook, we learned some of the basics of how to understand python errors.\n",
    "\n",
    "Sometimes, though, if you are using functions from a library, the error messages can get very long, and trickier to understand. \n",
    "\n",
    "Here, we will look at how to dissect an example of a more complicated error you can get from a function in a library and how to figure out where the useful information is."
   ]
  },
  {
   "cell_type": "code",
   "execution_count": null,
   "metadata": {},
   "outputs": [],
   "source": [
    "import matplotlib.pyplot as plt\n",
    "plt.plot([1,2], [1,2,3])"
   ]
  },
  {
   "cell_type": "markdown",
   "metadata": {},
   "source": [
    "Wow, that was a really big error message. What do I do with all of this? \n",
    "\n",
    "The most important information is at the very top and at the very bottom (you can just skip the rest for now...). \n",
    "\n",
    "At the top, it shows us the part of our code that triggered the error:\n",
    "\n",
    "<img src=\"resource/asnlib/public/big_error_1.png\"></img>\n",
    "\n",
    "The error type is a `ValueError`, which according to the documentation, indicates \"an argument that has the right type but an inappropriate value\". \n",
    "\n",
    "In the middle there is then a whole bunch of stuff we won't easily understand. What is all of this? This is showing us what is happening inside all the functions of the matplotlib library...probably unless you are a bit of an expert, you will not really understand all of this. \n",
    "\n",
    "We can learn more, though, by looking at the last line:\n",
    "\n",
    "<img src=\"resource/asnlib/public/big_error_2.png\"></img>\n",
    "\n",
    "What are `x` and `y`? They are the variable names in the library function in matplotlib where we ended up, so probably also maybe not immediately obvious what they are. But we can see more about the problem: it is complaining that two of the variables do not have the same shape. \n",
    "\n",
    "If we look up at the line in our code that triggered the error, we can see that we have supplied two arguments that have a different number of elements: `plt.plot([1,2], [1,2,3])`\n",
    "\n",
    "It would seem that both the first and second variables of the `plot` function should have the same number of elements. Indeed, if we try:\n",
    "\n",
    "`plt.plot([1,2,3], [1,2,3,])`\n",
    "\n",
    "then the error goes away:"
   ]
  },
  {
   "cell_type": "code",
   "execution_count": null,
   "metadata": {},
   "outputs": [],
   "source": [
    "plt.plot([1,2,3], [1,2,3,])"
   ]
  },
  {
   "cell_type": "markdown",
   "metadata": {},
   "source": [
    "## Learning objectives list\n",
    "\n",
    "Not crucial since this notebook is optional, but maybe useful to have.\n",
    "\n",
    "**Learning objectives for this notebook:**\n",
    "\n",
    "* Student is able to create and index tuples and lists by hand and using the `range()` operator\n",
    "* Student is able to loop over tuples and lists without indexing\n",
    "* Student is able to extract subsets of lists and tuples using slicing\n",
    "* Student is able to change individual entries of a list using indexing and the assignment operator\n",
    "* Student is able to use built-in functions of lists \n",
    "* Student is able to use indexing to extract substrings from a string\n",
    "* Student is able to use built-in string functions\n",
    "* Student is able to split a string into a list of strings using the `.split()` function\n",
    "* Student is able to search in strings using the `in` operator\n",
    "* Student is able to use formating and the `%` opereator to control how variables are translated into strings\n",
    "* Student is able to predict how variables behave differently for \"mutable\" and \"non-mutable\" objects (call-by-value vs. call-by-reference)\n",
    "* Student is able to use the `ipywidgets` `interact()` function to explore functions using sliders\n",
    "\n"
   ]
  },
  {
   "cell_type": "code",
   "execution_count": null,
   "metadata": {},
   "outputs": [],
   "source": []
  }
 ],
 "metadata": {},
 "nbformat": 4,
 "nbformat_minor": 2
}
