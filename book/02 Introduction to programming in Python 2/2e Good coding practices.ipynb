{
 "cells": [
  {
   "cell_type": "markdown",
   "metadata": {},
   "source": [
    "# Good coding practices\n",
    "\n",
    "In this notebook, we outline some example of \"good coding practices\": things you should do to make your code robust and understandable to others.\n",
    "\n",
    "Learning objectives:\n",
    "\n",
    "* Student is able to write code that has a clear and understandable structure\n",
    "* Student is able to write code with descriptive variable names\n",
    "* Student is able to write code with explanatory comments\n",
    "* Student is able to write code that avoids \"hard coding\"\n"
   ]
  },
  {
   "cell_type": "markdown",
   "metadata": {
    "deletable": false,
    "editable": false
   },
   "source": [
    "## Good coding practice: Writing understandable code\n",
    "\n",
    "Once you become an expert at coding, it will become very easy to write code that python can understand.\n",
    "\n",
    "What is actually a big challenge in computer science is actually writing code that works, that is efficient, and most importantly, that **other people will understand!** \n",
    "\n",
    "You might think: but I'm writing this code only for myself, so I don't really care about if my code is easy to understand, right? \n",
    "\n",
    "There are many reasons why this is incorrect: \n",
    "\n",
    "1. In this course, your teachers and your TAs will need to understand your code in order to grade it. If we can't quickly understand what you have done, **this will affect your grade!!!** (One of our grading criteria will be the clarity and readability of your code.)\n",
    "\n",
    "2. You might, in the future, want to share your code with someone else. If they have to spend a lot of time figuring out what you've done, then your code is useless to them. (In fact, this is the power of open languages like python, and is why python is so fantastically successful: there is a huge amount of code that other people have written that you can reuse!)\n",
    "\n",
    "3. Weeks, months, or even years later, you might want to go back and re-use your own code. If your code not written in a clear and understandable way, you yourself will waste a lot of time trying to figure out what you did!\n",
    "\n",
    "In preparing the lecture notebooks for this course, I personally experienced 3 myself: I went back to some simple code that I wrote a few weeks earlier, and I realized I had no idea what the code did!\n",
    "\n",
    "So how do you make sure that your code is understandable? There are two practices that can make this useful:\n",
    "\n",
    "* **Meaningful variable names and logical structure**\n",
    "* **Comments explaining what you're doing**\n",
    "\n",
    "As a concrete example, I will take the following code below and show how by using these two techniques, an imcomprehensible piece of code that is them modified in two steps to be very easy to understand.\n",
    "\n",
    "### BAD code\n",
    "\n",
    "Here is the \"bad\" code:"
   ]
  },
  {
   "cell_type": "code",
   "execution_count": null,
   "metadata": {},
   "outputs": [],
   "source": [
    "foo3 = 2.0; foo1 = 10; foo2 = 0.0\n",
    "def foo6(foo1):\n",
    "    return foo1**2\n",
    "foo5 = 0.5*foo6(foo2) + foo6(foo3); foo4 = (foo3-foo2)/foo1\n",
    "for foo7 in range(1,foo1):\n",
    "    foo5 += foo6(foo2+foo7*foo4)\n",
    "foo83 = (foo5*foo4)"
   ]
  },
  {
   "cell_type": "markdown",
   "metadata": {
    "deletable": false,
    "editable": false
   },
   "source": [
    "Can you figure out what this code does? It would take me personally a lot of time...\n",
    "\n",
    "This code is a mess, but is technically correct: it will give the right answer. But correct code can also be terrible code, and for me, the code above is really terrible!"
   ]
  },
  {
   "cell_type": "markdown",
   "metadata": {
    "deletable": false,
    "editable": false
   },
   "source": [
    "### Better variable names and logical structure"
   ]
  },
  {
   "cell_type": "code",
   "execution_count": null,
   "metadata": {},
   "outputs": [],
   "source": [
    "def f(x):\n",
    "    return x**4 - 2*x + 1\n",
    "\n",
    "N = 10\n",
    "a = 0.0\n",
    "b = 2.0\n",
    "h = (b-a)/N\n",
    "\n",
    "s = 0.5*f(a) + 0.5*f(b)\n",
    "for k in range(1,N):\n",
    "    s += f(a+k*h)\n",
    "\n",
    "answer2 = (h*s)"
   ]
  },
  {
   "cell_type": "markdown",
   "metadata": {
    "deletable": false,
    "editable": false
   },
   "source": [
    "Why is this better? \n",
    "\n",
    "* Not all variables and functions are named `foo`, but have somewhat meaningful names like `f(x)`, `a`, `b`, `N`\n",
    "* The definition of the variables is in a logical order (a is after b, for example)\n",
    "* The functions are defined at the top (a common convention to make your code understandable)\n",
    "* There are blank lines separating different logical parts of the code:\n",
    "    * function definitions at the top\n",
    "    * then the defining the values of the input variables\n",
    "    * then the loop that does the actual work\n",
    "    * then the definition of the answer / output\n",
    "\n",
    "When you work on the Integration notebook, you may also  recognise this from the trapezoidal technique. The variable names also match the formulas from a textbook we have used in the past, and if you had just read the textbook section on Integration, you will also probably almost instantly recognize all the variable names from those used in the derivation from the book, and also what it does. \n",
    "\n",
    "However, if you come back at a later time when the integration section of the textbook is not so fresh in your head (as I did recently while updating this notebook), you may immediately think \"what was I doing here?\""
   ]
  },
  {
   "cell_type": "markdown",
   "metadata": {
    "deletable": false,
    "editable": false
   },
   "source": [
    "### Even better: Descriptive variable names\n",
    "\n",
    "The above code is already better. And if I am looking a textbook where all the things above are clearly explained, then maybe the meaning of the parameters `a`, `b`, `N` etc are clear to me. However, if you haven't seen the code before, it may not be immediately obvious. Are `a` and `b` the slope and intercept of a line $y=ax+b$? Or are they something else? Is `N` the number of points in my discretisation, or is it the number of slices in my integral? \n",
    "\n",
    "For this reason, it is better to use descriptive variable names that themselves already describe what the meaning of the variable is:"
   ]
  },
  {
   "cell_type": "code",
   "execution_count": null,
   "metadata": {},
   "outputs": [],
   "source": [
    "def f(x):\n",
    "    return x**4 - 2*x + 1\n",
    "\n",
    "N_slices = 10\n",
    "start = 0.0\n",
    "stop = 2.0\n",
    "step_size = (stop-start)/N_slices\n",
    "\n",
    "running_sum = 0.5*f(start) + 0.5*f(stop)\n",
    "\n",
    "for i in range(1,N_slices):\n",
    "    running_sum += f(start+i*step_size)\n",
    "\n",
    "answer2 = (step_size*running_sum)"
   ]
  },
  {
   "cell_type": "markdown",
   "metadata": {
    "deletable": false,
    "editable": false
   },
   "source": [
    "This is a bit more typing, but you can also use \"tab completion\" to save typing: just type the first few letters, push the \"tab\" key, and the Jupyter notebook will automatically type the rest out for you."
   ]
  },
  {
   "cell_type": "markdown",
   "metadata": {
    "deletable": false,
    "editable": false
   },
   "source": [
    "### Commenting your code\n",
    "\n",
    "By taking some time to explain what you're doing and why, this code can now become instantly understandable:"
   ]
  },
  {
   "cell_type": "code",
   "execution_count": null,
   "metadata": {},
   "outputs": [],
   "source": [
    "# Code for integration with the Trapezoidal rule\n",
    "\n",
    "# The function we want to integrate\n",
    "def f(x):\n",
    "    return x**4 - 2*x + 1\n",
    "\n",
    "# The number of slices we will use, and the starting and end points of the integral\n",
    "# Note that this is NOT the number of points for our discritisation: that is N_slices+1.\n",
    "N_slices = 10\n",
    "\n",
    "# The starting and stopping points of our integration range\n",
    "start = 0.0\n",
    "stop = 2.0\n",
    "\n",
    "# The step size\n",
    "step_size = (stop-start)/N_slices\n",
    "\n",
    "# A running sum we will use\n",
    "# We start by the half of the start and end points (trapezoidal rule)\n",
    "running_sum = 0.5*f(stop) + 0.5*f(stop)\n",
    "\n",
    "# Now a for loop that does the sum.\n",
    "# range(1,N_slices) will give us 9 numbers running from 1 to N_slices-1 \n",
    "# For N_slices=10, we will get a list of 9 numbers: [1,2,3,4,5,6,7,8,9]\n",
    "# Note that we do not need i = 0 because in the trapezoidal rule, we add it\n",
    "# separately above with a factor of 0.5, together with the end point\n",
    "for i in range(1,N_slices):\n",
    "    running_sum += f(start+i*step_size)\n",
    "\n",
    "# The integral is then given by the produce of the sum and the step siz\n",
    "answer2 = (running_sum*step_size)"
   ]
  },
  {
   "cell_type": "markdown",
   "metadata": {
    "deletable": false,
    "editable": false
   },
   "source": [
    "Here, we explain what we are doing and why! This code is likely understandable by anyone who reads it, including myself again in a year's time.\n",
    "\n",
    "In particular, we can point out some of the sneaky things, such as the difference between number of slices and number of points, and also why our `range()` function starts at 1 and not 0. \n",
    "\n",
    "It is always a good idea to add comments explaning what you do. But, of course, you don't want to write code that is more comments than actual code! Where do I draw the line? When do I decide if I should add a comment of if I think it is already clear enough without it? \n",
    "\n",
    "**Good guideline:** if there is something that you had to fiddle around with for a while to get the code correct, add a comment in your code so that you remember this and others get to learn from your hard work!\n",
    "\n",
    "Using descriptive variable names also helps, as then you may not have to add a comment where you otherwise would. \n",
    "\n",
    "And, while it takes some time while you're doing it, but adding detailed comments to our code will make your life MUCH easier in the future, will make your code understandable for others, and will maximize your grade :)"
   ]
  },
  {
   "cell_type": "markdown",
   "metadata": {
    "deletable": false,
    "editable": false
   },
   "source": [
    "### Summary: Writing understandable code\n",
    "\n",
    "In summary, you can make your code much more understandable for others if you:\n",
    "\n",
    "1. Use descriptive variable names\n",
    "2. Explain things in comments"
   ]
  },
  {
   "cell_type": "markdown",
   "metadata": {
    "deletable": false,
    "editable": false
   },
   "source": [
    "## Good coding practice: Avoid hard-coding\n",
    "\n",
    "\n",
    "\"Hard coding\" is one of the coding practices we will be discouraging in this course, and the use of \"hard coding\" can lose you points in your final exam.\n",
    "\n",
    "What is \"hard coding\"?\n",
    "\n",
    "Hard coding is when you fill in values repeated at multiple places in your code. For example, say your are asked to make an array `x` that is 1000 points and runs from 0 to 10, calculate array $y = \\sin(x)$, and then print out the percentage of points in `y` that have a value of less than 0.3. In the code snippets below, we will take a look at a **BAD** way of doing this with hard-coding, and then also proper ways of doing this that do not involve hard-coding."
   ]
  },
  {
   "cell_type": "markdown",
   "metadata": {
    "deletable": false,
    "editable": false
   },
   "source": [
    "### BAD code with hard-coding\n",
    "\n",
    "Here is an example of a **BAD** piece of code that does this using hard-coding of the number of points:"
   ]
  },
  {
   "cell_type": "code",
   "execution_count": null,
   "metadata": {},
   "outputs": [],
   "source": [
    "import numpy as np\n",
    "\n",
    "# An example of hard coding (DO NOT DO!!!!)\n",
    "x = np.linspace(0,10,1000)\n",
    "y = np.sin(x)\n",
    "\n",
    "num = 0\n",
    "for i in range(1000):\n",
    "    if (y[i]<0.3):\n",
    "        num += 1\n",
    "\n",
    "print(\"The percentange of points in y less than 0.3 is %.2f %%\" % (num/1000*100))"
   ]
  },
  {
   "cell_type": "markdown",
   "metadata": {
    "deletable": false,
    "editable": false
   },
   "source": [
    "In this example code, we say that we have \"hard coded\" the number of points in the array. Say we wanted to then change the number of points in array `x` from 1000 to 1500: we would then have to go through all of our code by hand and change `1000` each time into `1500`. \n",
    "\n",
    "This time that is not so difficult since it is a short piece of code, but when you build more complex programs, this will become a lot more work, and the chance of getting a bug in your code will increase exponentially!\n",
    "\n",
    "### GOOD example with no hard-coding: replacing hard coded numbers with a variable\n",
    "\n",
    "Below, instead of typing in `1000` each time manually, we will define a variable at the top that will define how many points `x` has. This way, if we want to change the size of `x`, all we have to do is change this variable and everything will still work."
   ]
  },
  {
   "cell_type": "code",
   "execution_count": null,
   "metadata": {},
   "outputs": [],
   "source": [
    "# An example THE PROPER WAY, using a variable\n",
    "npts = 1000\n",
    "x = np.linspace(0,10,npts)\n",
    "y = np.sin(x)\n",
    "maxval=0.3\n",
    "\n",
    "num = 0\n",
    "for i in range(npts):\n",
    "    if (y[i]<maxval):\n",
    "        num += 1\n",
    "\n",
    "print(\"The percentange of points in y less than 0.3 is %.2f %%\" % (num/npts*100))"
   ]
  },
  {
   "cell_type": "markdown",
   "metadata": {
    "deletable": false,
    "editable": false
   },
   "source": [
    "The big advantage here is that you can just change `npts` and all the code works immediately with no further changes!"
   ]
  },
  {
   "cell_type": "markdown",
   "metadata": {
    "deletable": false,
    "editable": false
   },
   "source": [
    "### Another GOOD option: replace hard coded numbers with automatically calculated values\n",
    "\n",
    "Here below is also another option: instead of using a variable `npts`, we can also use the `len()` function to automatically calculate the length of array x:"
   ]
  },
  {
   "cell_type": "code",
   "execution_count": null,
   "metadata": {},
   "outputs": [],
   "source": [
    "# An example using len()\n",
    "npts=1000\n",
    "x = np.linspace(0,10,npts)\n",
    "y = np.sin(x)\n",
    "maxval=0.3\n",
    "num = 0\n",
    "\n",
    "# For for loops, this is quite handy and easy to read\n",
    "for i in range(len(y)):\n",
    "    if (y[i]<maxval):\n",
    "        num += 1\n",
    "\n",
    "# However, for this line, I find the example above with npts a bit more readable: it is very obvious\n",
    "# why I would divide by npts, but maybe not so immediately obvious why dividing by len(y)\n",
    "# is the right thing to do...but it's fine, in particular if you add a comment explaining\n",
    "# yourself.\n",
    "print(\"The percentange of points in y less than 0.3 is %.2f %%\" % (num/len(y)*100))"
   ]
  },
  {
   "cell_type": "markdown",
   "metadata": {
    "deletable": false,
    "editable": false
   },
   "source": [
    "As mentioned in the code, this is quite common and probably always a good idea for the for loop: this way, you never accidentally loop over the end of the array! \n",
    "\n",
    "(In python, this will either give an error, or, in the case of slicing, will give strange results since slicing applies \"periodic\" boundary conditions when indexing instead of giving an error...)\n",
    "\n",
    "In the case of calculating the percentage, it is maybe a bit less obvious to a non-trained programmer that this is the right thing to do, in which case it is a good idea to add a comment to your code explaining what you're doing.\n",
    "\n",
    "### Summary: How to avoid hard coding\n",
    "\n",
    "You will make your code much more robust and maintainable by avoiding hard coding of values if you:\n",
    "\n",
    "* Replace hard-coded values with variables\n",
    "* Use functions that can automatically determine the appropriate value to use"
   ]
  }
 ],
 "metadata": {},
 "nbformat": 4,
 "nbformat_minor": 2
}
