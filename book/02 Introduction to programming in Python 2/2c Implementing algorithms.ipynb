{
 "cells": [
  {
   "cell_type": "markdown",
   "metadata": {
    "deletable": false,
    "editable": false
   },
   "source": [
    "# Developing and testing algorithms\n",
    "\n",
    "In the previous lectures we focused on implementing small pieces of code to perform specific well-defined tasks for you. However, in general, computer programs can perform highly complicated data processing and can comprise of millions line of code (not in this course though). Usually, we say that a computer program is an  <a href=https://en.wikipedia.org/wiki/Algorithm>*algorithm*</a>, i.e., it is \"a finite sequence of well-defined, computer-implementable instructions, typically to solve a class of problems or to perform a computation\". In order to develop these codes computer scientists use what is called algorithmic thinking. In essence, algorithmic thinking is the process of solving a problem in a systematic way. In this lecture notebook we develop some algorithmic thinking and go through the basic steps that are required to make a computer program from scratch. \n",
    "  \n",
    "**Learning objectives for this notebook:**\n",
    "\n",
    "* Student can design an algorithm in a systematic way\n",
    "* Student can implement a algorithm in Python\n",
    "* Student can test algorithm outcome\n",
    "* Student can benchmark algorithm computational speed"
   ]
  },
  {
   "cell_type": "markdown",
   "metadata": {
    "deletable": false,
    "editable": false
   },
   "source": [
    "## Designing algorithms\n",
    "Programming problems generally start with a very general description in written language of what the computer needs to do. As a computer scientist (and physicist) you usually have to better specify the problem. Here we will take the problem stated below as an example.\n",
    "\n",
    "> Determine the start date and length of the longest period of summer days in a KNMI dataset ranging from 1920 to 2020.\n",
    "\n",
    "Although this may seem a trivial task, algorithmic thinking can improve the rapid and correct implementation of this problem in computer code.\n",
    "\n",
    "### Step 1: Understanding the problem and abstract\n",
    "The first thing we do is to define more precisely what is required. The data file can be obtained from <a href=\"http://projects.knmi.nl/klimatologie/daggegevens/selectie.cgi\">KNMI</a> but is given to you as `KNMI_20200129.txt`. First open the file in a text editor.\n",
    "* The file has a header and the data consists of three columns\n",
    "* The temperature column consists of daily temperature readings in units of 0.1 degrees\n",
    "* Summer period is defined as a temperature in excess of 25 degrees Celcius\n",
    "* There are probably many summer periods, so we have to compare their lengths\n",
    "* We output the length of the summer period and the start date\n",
    "* We are not sure whether there are any summer periods in the data set\n",
    "\n",
    "Now that we have defined the problem a bit better we can describe in words what we have to do:\n",
    "\n",
    "Loop over all days in the data set. If the temperature of the day is higher than or equal to 25 degrees, add 1 day to the summer day length, and go to the next day. When encountering the first day with a temperature lower than 25 degrees, compare the calculated number of consecutive summer days, if the period is longer than the previous longest summer period, replace both the start date and the summer period length by the new start date and length. Set the length back to zero.\n",
    "\n",
    "### Step 2: Make a rough sketch of your algorithm\n",
    "Below is a sketch of the algorithm that we need to write.\n",
    "\n",
    "<img width=30% src=\"resource/asnlib/public/scheme.png\"></img>\n",
    "\n",
    "Note the clearly visible loop and conditional statements in the diagram.\n",
    "\n",
    "### Step 3: Define an outline of your program\n",
    "We make a step by step implementation of the algorithm in Python. \n",
    "\n",
    "We add a general description of the program. Imagine yourself looking at the code in a few years from now, you would most probably have forgotten everything about the code and be very happy to see a short description of what the code does.\n",
    "\n",
    "We put all steps in comments and make sure that the program keeps running free of errors in all the steps we make (push run regularly). In this way we know that if programming errors occur we know at which step they occur, which makes it more easy to solve them. Below is a first outline of our program. Note that we defined a test data set to validate the correct operation of our program. "
   ]
  },
  {
   "cell_type": "code",
   "execution_count": null,
   "metadata": {},
   "outputs": [],
   "source": [
    "\"\"\"This program calculates the longest period of summer days in a KNMI data set.\"\"\"\n",
    "\n",
    "# Load libraries\n",
    "\n",
    "# Define parameters\n",
    "\n",
    "# Read in data set\n",
    "\n",
    "# Plot data set\n",
    "\n",
    "# Generate test data set\n",
    "\n",
    "# Loop over all days\n",
    "\n",
    "# Print output"
   ]
  },
  {
   "cell_type": "markdown",
   "metadata": {
    "deletable": false,
    "editable": false
   },
   "source": [
    "### Step 4: Step by step implementation\n",
    "The first step is reading in the relevant libraries. Also we already define a few of the important parameters, see the diagram. Next, we open the file with a text editor and look at the data format. As you can see the data is in units of tenths of degrees, hence we need to convert this. The date is in a general form. For now this is fine. Also you can see that the delimiter is a `,`. The first real programming step is getting access to the data via reading in the text file.\n",
    "\n",
    "A plot of the data versus the line number gives us a quick view of what the data set looks like and that the temperature is what we expect. From the data we can already see that there are a few days that have a temperature larger than the threshold of 25 degrees. If we would have to write a program for any KNMI data set, we would have to check with our algorithm whether there are any summer days in the data set."
   ]
  },
  {
   "cell_type": "code",
   "execution_count": null,
   "metadata": {},
   "outputs": [],
   "source": [
    "# Load libraries\n",
    "import numpy as np\n",
    "import matplotlib.pyplot as plt\n",
    "import sys\n",
    "sys.path.append('resource/asnlib/public/')\n",
    "sys.path.append('../answer_checking/') \n",
    "from validate_answers import *\n",
    "\n",
    "# Define parameters\n",
    "Tsummer=25\n",
    "index=0\n",
    "length=0\n",
    "lengthmax=0\n",
    "\n",
    "# Read in data set\n",
    "debilt=np.loadtxt('resource/asnlib/public/KNMI_20200129.txt', dtype=int, delimiter=',')\n",
    "temps=debilt[:,2]/10\n",
    "\n",
    "# Plot data set\n",
    "plt.plot(temps)\n",
    "plt.show()\n",
    "\n",
    "# Generate test data set\n",
    "\n",
    "# Loop over all days\n",
    "\n",
    "# Print output"
   ]
  },
  {
   "cell_type": "markdown",
   "metadata": {
    "deletable": false,
    "editable": false
   },
   "source": [
    "Next we generate a test data set to test our method on. We make a loop over all values of this data set and implement a simple loop that runs over all the numbers."
   ]
  },
  {
   "cell_type": "code",
   "execution_count": null,
   "metadata": {},
   "outputs": [],
   "source": [
    "# Load libraries\n",
    "import numpy as np\n",
    "import matplotlib.pyplot as plt\n",
    "\n",
    "# Define parameters\n",
    "Tsummer=25\n",
    "index=0\n",
    "length=0\n",
    "lengthmax=0\n",
    "\n",
    "# Read in data set\n",
    "debilt=np.loadtxt('resource/asnlib/public/KNMI_20200129.txt', dtype=int, delimiter=',')\n",
    "temps=debilt[:,2]/10\n",
    "\n",
    "# Plot data set\n",
    "# plt.plot(temps)\n",
    "# plt.show()\n",
    "\n",
    "# Generate test data set\n",
    "test=np.array([3, 5, 20, 7, 12, 25, 23, 14, 10, 30, 30, 27, 5])\n",
    "\n",
    "# Loop over all days\n",
    "for cnt in range(len(test)):\n",
    "    print(test[cnt])\n",
    "\n",
    "# Print output"
   ]
  },
  {
   "cell_type": "markdown",
   "metadata": {
    "deletable": false,
    "editable": false
   },
   "source": [
    "Now comes the hardest part, we have to implement the core of our code. We will see if we can implement the method in our sketch into working code. From our test data set we know that we should expect a summer day period length 3 starting at index 9 (Python indexing). Implement it and test it, this step may take some time.\n",
    "\n",
    "Note that there is one small catch to the correct functioning of the program that you easily spot with the test data set (that's why we use it!). If the last day is a summer day adjacent to the longest summer day period (e.g. when we replace the `5` with `29`) your code would give the incorrect answer. You could solve this by testing whether the last day is a summer day and then adding a dummy entry to the end of the array. For now, we manually check in the file that the last day is not a summer day, hence our code works correctly."
   ]
  },
  {
   "cell_type": "code",
   "execution_count": null,
   "metadata": {},
   "outputs": [],
   "source": [
    "# Load libraries\n",
    "import numpy as np\n",
    "import matplotlib.pyplot as plt\n",
    "\n",
    "# Define parameters\n",
    "Tsummer=25\n",
    "index=0\n",
    "length=0\n",
    "lengthmax=0\n",
    "\n",
    "# Read in data set\n",
    "debilt=np.loadtxt('resource/asnlib/public/KNMI_20200129.txt', dtype=int, delimiter=',')\n",
    "temps=debilt[:,2]/10\n",
    "\n",
    "# Plot data set\n",
    "# plt.plot(temps)\n",
    "# plt.show()\n",
    "\n",
    "# Generate test data set\n",
    "test=np.array([3, 5, 20, 7, 12, 25, 23, 14, 10, 30, 30, 27, 5])\n",
    "\n",
    "# Loop over all days\n",
    "for cnt in range(len(test)):\n",
    "    if test[cnt] >= Tsummer:\n",
    "        length+=1\n",
    "    else:\n",
    "        if length>lengthmax:\n",
    "            lengthmax=length\n",
    "            index=cnt-length\n",
    "        else:\n",
    "            length=0\n",
    "    \n",
    "# Print output\n",
    "print('The maximum length of summer days is ', lengthmax)\n",
    "print('The longest summer starts at ', index) # Python index"
   ]
  },
  {
   "cell_type": "markdown",
   "metadata": {
    "deletable": false,
    "editable": false
   },
   "source": [
    "### Step 5: Implementing it on your final data set\n",
    "Okay, the code works with the test data set. Now we can replace, the test data set with the real data set, which is a simple adjustment to your program. The only thing we have to do is extract the date at the correct location in the data set. We print everything to the command line. And we're done."
   ]
  },
  {
   "cell_type": "code",
   "execution_count": null,
   "metadata": {},
   "outputs": [],
   "source": [
    "# Load libraries\n",
    "import numpy as np\n",
    "import matplotlib.pyplot as plt\n",
    "\n",
    "# Define parameters\n",
    "Tsummer=25\n",
    "index=0\n",
    "length=0\n",
    "lengthmax=0\n",
    "\n",
    "# Read in data set\n",
    "debilt=np.loadtxt('resource/asnlib/public/KNMI_20200129.txt', dtype=int, delimiter=',')\n",
    "temps=debilt[:,2]/10\n",
    "\n",
    "# Plot data set\n",
    "# plt.plot(temps)\n",
    "# plt.show()\n",
    "\n",
    "# Generate test data set\n",
    "test=np.array([3, 5, 20, 7, 12, 25, 23, 14, 10, 30, 30, 27, 5])\n",
    "\n",
    "# Loop over all days\n",
    "for cnt in range(len(temps)):\n",
    "    if temps[cnt] >= Tsummer:\n",
    "        length+=1\n",
    "    else:\n",
    "        if length>lengthmax:\n",
    "            lengthmax=length\n",
    "            index=cnt-length\n",
    "        else:\n",
    "            length=0\n",
    "    \n",
    "# Print output\n",
    "print('The maximum length of summer days is ', lengthmax)\n",
    "print('The longest summer starts at ', debilt[index,1]) # Python index"
   ]
  },
  {
   "cell_type": "markdown",
   "metadata": {
    "deletable": false,
    "editable": false
   },
   "source": [
    "## Benchmarking computational speed \n",
    "\n",
    "An important consideration in programming is how long it takes your code to perform a certain task (how \"fast\" it is).\n",
    "\n",
    "In this exercise, you will learn how to measure the speed of your code. For this, we will take an example of the calculation of the <a href=https://en.wikipedia.org/wiki/Arithmetic_mean> average (arithmatic mean) and <a href=https://en.wikipedia.org/wiki/Standard_deviation>standard deviation</a> of a dataset.\n",
    "\n",
    "Once we have coded this ourselves and understand how it works, we will also perform the calculation with the built-in numpy functions.\n",
    "\n",
    "Finally, we will compare speed of our own functions with the built-in ones from numpy.  \n",
    "\n",
    "(a) Write a function that uses a `for` loop to calculate the average of numpy array. Test it using the following data: `d = np.array([1,2,3,4,5,6,7,8,10])`"
   ]
  },
  {
   "cell_type": "code",
   "execution_count": null,
   "metadata": {},
   "outputs": [],
   "source": [
    "d = np.array([1,2,3,4,5,6,7,8,10])\n",
    "\n",
    "###\n",
    "### Your code here\n",
    "###\n"
   ]
  },
  {
   "cell_type": "markdown",
   "metadata": {
    "deletable": false,
    "editable": false
   },
   "source": [
    "(b) Write a function to calculate the standard deviation $\\sigma$ of an array using a `for` loop, testing it again using `d`.\n",
    "\n",
    "_Hint:_ It is handy to remember that $\\sigma_x^2 = \\langle x^2 \\rangle - \\langle x \\rangle^2$, where $\\langle x^2 \\rangle$ is the average value of $x^2$ and $\\langle x \\rangle$ is the average value of $x$."
   ]
  },
  {
   "cell_type": "code",
   "execution_count": null,
   "metadata": {},
   "outputs": [],
   "source": [
    "d = np.array([1,2,3,4,5,6,7,8,10])\n",
    "\n",
    "###\n",
    "### Your code here\n",
    "###\n"
   ]
  },
  {
   "cell_type": "markdown",
   "metadata": {
    "deletable": false,
    "editable": false
   },
   "source": [
    "(c) Now let's try finding the average and standard deviation for a very large (but boring) dataset! As we want to keep track of how fast our functions are, we will use the `time` library from Python. \n",
    "\n",
    "The time library contains a function `time()` (see documentation <a href=https://docs.python.org/3/library/time.html#time.time>here</a>) that returns a floating point number corresponding to the number of in the <a href=https://docs.python.org/3/library/time.html#epoch>epoch</a> (typically the number of seconds since January 1, 1970, 00:00:00 (UTC)) with typically millisecond or better resolution.\n",
    "\n",
    "To calculate how long each of our functions takes, we will record the time since the beginning of hte epoch right before and right after calling each function. Assuming your computer is not doing too many other things (like watching youtube videos or netflix in the background) this will give a pretty good estimate of how fast your code runs.\n",
    "\n",
    "(On my computer, std_dev took 3.04 seconds typically)"
   ]
  },
  {
   "cell_type": "code",
   "execution_count": null,
   "metadata": {},
   "outputs": [],
   "source": [
    "###\n",
    "### Your code here\n",
    "###\n"
   ]
  },
  {
   "cell_type": "markdown",
   "metadata": {
    "deletable": false,
    "editable": false
   },
   "source": [
    "(d) Now let's try the same thing using the built-in functions `np.average()` and `np.std()`. How much faster do they run?"
   ]
  },
  {
   "cell_type": "code",
   "execution_count": null,
   "metadata": {},
   "outputs": [],
   "source": [
    "###\n",
    "### Your code here\n",
    "###\n"
   ]
  },
  {
   "cell_type": "markdown",
   "metadata": {
    "deletable": false,
    "editable": false
   },
   "source": [
    "What do you notice? Which one was faster?\n",
    "\n",
    "On my computer, the averaging code took 1.58 seconds, whereas numpy took only 0.01 seconds!!! *What is going on? Am I such a bad programmer?*\n",
    "\n",
    "The answer to this lies in the way that Python works. In particular, python is an interpreted language. This means that when you type code into python, it is not translated directly into \"machine code\" that can run on your processor, but intead into instructions that are fed one-by-one into the python interpreter program, which makes the execution of programs much slower. \n",
    "\n",
    "This can get very bad for repetitive things like long `for` loops, as essentially the same instruction has to be loaded over and over into your processor one at a time, instead of just telling it directly to repeat the same thing over and over again. \n",
    "\n",
    "The reason why `np.average` is so much faster is that this is a pre-compiled function: it already knows that it will be repeating the same thing over and over again and can load this all in one go into your process. For that reason, it is hundreds of times faster than using a `for` loop.\n",
    "\n",
    "For that reason, in general, if you have python code that is using a `for` loop and you care about how fast it runs, it's always a good idea to check if there is a built-in function from python that can do it for you. Very often, there is, and for this reason well-written python code can often be just as fast as FORTRAN or C. The flip side of the coin is that when you are learning to program, it is always important to write out these things first with your own (slow) `for` loops so that you understand how the algorithm works."
   ]
  },
  {
   "cell_type": "markdown",
   "metadata": {
    "deletable": false,
    "editable": false
   },
   "source": [
    "## Implement your own algorithm\n",
    "\n",
    "A common task one encounters in experimental physics is picking out the positions of peaks in a dataset: these peaks could be the absorption resonances of an atomic gas, they could be the mechanical resonances of a object like a guitar string, or they could be peaks in a recorded sound signal. In this example, we will work with a “spectroscopy” dataset that represents the amplitude of a voltage measured as a function of a frequency applied to an object.\n",
    "\n",
    "In general, if you look at a dataset, you can easily see with your eyes where the peaks are. However, it is a bit more tricky to have a computer do that for you. Obviously, for a few peaks you can do it yourself, but if you want to plogh through large datasets you have to rely on a computer. A naive approach, for example simply looking at the highest point will not work: it will just give you one peak, the tallest, even if there are multiple local “peaks” in your data.\n",
    "\n",
    "<img width=40% src=\"resource/asnlib/public/peakdetect.png\"></img>\n",
    "\n",
    "One trick for this is to use the fact that between two “peaks” (maxima), there is always a “valley” (a minimum). The way the peak ﬁnding algorithm works is that you start at one side of the dataset and iterate through it left to right, as illustrated above. You can start by looking for a peak: for each step you take, if the next point is “higher” then the previous one, it becomes your candidate for where the peak is. As long as the next point keeps going up, then the position of the peak keeps moving with you. However, as soon as you see a step that goes down instead of up, then you know that the last point was actually a real peak, and you can make a note of its location and value.\n",
    "\n",
    "Once you’ve found a peak, you then switch from looking for a peak to looking for a valley, and continue iterating through the dataset. Now you keep track of your best “candidate” for the position of the valley, updating it if the next point you look at is lower than your current “minimum” value. When you eventually take a step back up again, you know that the previous point was a valley, and so switch back to looking for a peak, continuing like this until the end\n",
    "of the dataset.\n",
    "\n",
    "**Exercise 1**\n",
    "\n",
    "Perform the design and implementation steps in this notebook to make a peak finding algorithm on the data set given in the file `peaks.dat`. Output the peak position frequency in variable `fPeaks` and the peak height in variable `vPeaks`. Yes, you have to start from scratch!"
   ]
  },
  {
   "cell_type": "code",
   "execution_count": null,
   "metadata": {},
   "outputs": [],
   "source": [
    "###\n",
    "### Your code here\n",
    "###\n",
    "\n",
    "answer_2c_1_1 = np.copy(fPeaks)\n",
    "answer_2c_1_2 = np.copy(vPeaks)\n"
   ]
  },
  {
   "cell_type": "code",
   "execution_count": null,
   "metadata": {
    "deletable": false,
    "editable": false
   },
   "outputs": [],
   "source": [
    "question = \"answer_2c_1\"\n",
    "num = 2\n",
    "\n",
    "to_check = [question + \"_%d\" % (n+1) for n in range(num)]\n",
    "feedback = \"\"\n",
    "passed = True\n",
    "for var in to_check:\n",
    "    res, msg = check_answer(eval(var), var)\n",
    "    passed = passed and res\n",
    "    print(msg); feedback += msg + \"n\"\n",
    "\n",
    "assert passed == True, feedback"
   ]
  },
  {
   "cell_type": "code",
   "execution_count": null,
   "metadata": {},
   "outputs": [],
   "source": []
  }
 ],
 "metadata": {},
 "nbformat": 4,
 "nbformat_minor": 2
}
