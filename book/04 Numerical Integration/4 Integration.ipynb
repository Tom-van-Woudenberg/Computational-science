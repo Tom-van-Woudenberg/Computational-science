{
 "cells": [
  {
   "cell_type": "markdown",
   "metadata": {
    "deletable": false,
    "editable": false
   },
   "source": [
    "# Numerical Integration\n",
    "\n",
    "In this notebook, you will implement the different techniques for the numerical computation of integrals in python and explore aspects of numerical integration.\n",
    "\n",
    "**Learning objectives:** After finishing this notebook, you should be able to:\n",
    "\n",
    "1. Implement integration of a function with the trapezoidal rule\n",
    "2. Implement integration of a function with Simpson's rule\n",
    "3. Calculate the integral of a numerical dataset\n"
   ]
  },
  {
   "cell_type": "code",
   "execution_count": null,
   "metadata": {
    "deletable": false,
    "editable": false
   },
   "outputs": [],
   "source": [
    "# Initialisation code for the notebook\n",
    "import numpy as np\n",
    "import matplotlib.pyplot as plt\n",
    "import sys\n",
    "sys.path.append('resource/asnlib/public/')\n",
    "sys.path.append('../answer_checking/')\n",
    "from validate_answers import *"
   ]
  },
  {
   "cell_type": "code",
   "execution_count": null,
   "metadata": {},
   "outputs": [],
   "source": [
    "plt.rcParams['figure.dpi'] = 100"
   ]
  },
  {
   "cell_type": "markdown",
   "metadata": {
    "deletable": false,
    "editable": false
   },
   "source": [
    "## Numerical Integration\n",
    "\n",
    "Often in physics, we will want to calculate the integral of a function, which can be interpreted at the area under the curve of the function between a starting point and and ending point, as illustrated here:\n",
    "\n",
    "<img src=\"resource/asnlib/public/integral.png\"></img>\n",
    "\n",
    "Unlike taking a derivative, calculating the analytical form of a derivative is not always easy, and is not even guaranteed to have an analytical closed form! This is one of the reasons it is useful to calculate integrals numerically, know as Numerical Integration:\n",
    "\n",
    "https://en.wikipedia.org/wiki/Numerical_integration\n",
    "\n",
    "### Discretisation\n",
    "\n",
    "As is the case for any calculation in a computer, the first step is to break our continuous variable $x$ into list of numbers `x[i]` separated by (typically) fixed steps (know as <a href=https://en.wikipedia.org/wiki/Discretization>discretising</a>), along with corresponding set of $y$ values $y[i]$:\n",
    "\n",
    "<img src=\"resource/asnlib/public/discrete.png\"></img>\n",
    "\n",
    "We will name the spacing between the steps in $\\Delta x = h$. The example above would correspond to a total number of points $n = 4$, and following the python convention of counting from zero, the last point is then `y[3]`. \n",
    "\n",
    "From there, we can use several different approximations to calculate the integrated area, a few of which we will describe here. \n",
    "\n",
    "### Simple sum\n",
    "\n",
    "The simplest is to simply sum up all the `y[i]` values except the last and then multiply this by the spacing $h$. For a total number of points $n$, this results in an estimate of the integral $I_{sum}$ given by: \n",
    "\n",
    "$$\n",
    "I_{\\rm sum} = h \\sum_{i=0}^{n-2} y_i\n",
    "$$\n",
    "\n",
    "This is equivalent to the following area graphically as an approximation of the continuous integral: \n",
    "\n",
    "<img src=\"resource/asnlib/public/simple_sum.png\"></img>\n",
    "\n",
    "Note that the sum limit in the formula above **does not** include the last point ($i = n-1$), but instead stops at second-to-last point ($i=n-2$). This is because for $n$ points, there are $n-1$ blocks (\"slices\") between the first and the last points.\n",
    "\n",
    "### Trapezoidal rule\n",
    "\n",
    "An obvious improvement over the sum rule above is to replace the \"flat tops\" of the boxes above with sloped lines that connect one point to the next:\n",
    "\n",
    "<img src=\"resource/asnlib/public/trapezoid_rule.png\"></img>\n",
    "\n",
    "This is known as the Trapezoidal rule: \n",
    "\n",
    "https://en.wikipedia.org/wiki/Trapezoidal_rule\n",
    "\n",
    "We can already see that this is giving a much better approximation! The formula for the estimated integral using the trapezoidal rule is given by:\n",
    "\n",
    "$$\n",
    "I_{\\rm trap} =  h \\left( \\frac{y_0 + y_{n-1}}{2} + \\sum_{i=1}^{n-2} y_i \\right)\n",
    "$$\n",
    "\n",
    "The formula is in fact nearly identical to the simple sum, except that instead of using the first point and skipping the last point, we replace the first point with average of the first and last points. \n",
    "\n",
    "### Simpson's rule\n",
    "\n",
    "While the trapezoidal rule is clearly much better, we can do even better if we use a quadratic interpolation instead of a linear interpolation between the points. This technique is known as Simpson's rule: \n",
    "\n",
    "https://en.wikipedia.org/wiki/Simpson%27s_rule\n",
    "\n",
    "In this case, the estimate of the integral is given by a more complicated sum involving different coefficients for the odd and even points:\n",
    "\n",
    "$$\n",
    "I_{\\rm simp} = \\frac{h}{3}\\left( y_0 + 2\\sum_{i=1}^{n/2-1}y_{2i} + 4\\sum_{i=1}^{n/2}y_{2i-1} + y_n \\right)\n",
    "$$\n",
    "\n",
    "In the exercises below, you will explore implementing these different types of numerical intergration techniques in python."
   ]
  },
  {
   "cell_type": "markdown",
   "metadata": {
    "deletable": false,
    "editable": false
   },
   "source": [
    "## Exercises \n",
    "\n",
    "We will start by calculating the following integral: \n",
    "\n",
    "\\begin{equation}\n",
    "\\int_0^2 (x^4 - 2x +1) dx\n",
    "\\end{equation}\n",
    "\n",
    "using two different techniques. \n",
    "\n",
    "This integral is actually one that you can calculate yourself and has the exact value of 4.4. This will be handy as we can use this exact value to compare with the values that our numerical calculations give. \n",
    "\n",
    "(The idea, of course though, is that numerical integration is useful for calculating the integrals of functions that are not easy to calculate! But we will do this later, and for now, it is handy to know what the answer is.) \n",
    "\n",
    "Before we start, it is useful already to make a plot of the function we are integrating. \n",
    "\n",
    "To do this, we will create an array x ranging from 0 to 2 with 100 points (just to get a bit of a smooth plot). We will then create second array y which will be our integrand, and then we will plot y versus x."
   ]
  },
  {
   "cell_type": "markdown",
   "metadata": {
    "deletable": false,
    "editable": false
   },
   "source": [
    "**Exercise 1:** Modify the code below to produce a plot of the integrand in the range of 0 to 2 with 100 points."
   ]
  },
  {
   "cell_type": "code",
   "execution_count": null,
   "metadata": {},
   "outputs": [],
   "source": [
    "# Define the function f(x) \n",
    "###\n",
    "### Your code here\n",
    "###\n",
    "\n",
    "\n",
    "# First, make the arrays of x and y values for the plot\n",
    "# npts = ______\n",
    "# x = np.linspace(____,____,npts)\n",
    "# y = _____\n",
    "\n",
    "###\n",
    "### Your code here\n",
    "###\n",
    "\n",
    "\n",
    "# Now plot it and add x and y labels\n",
    "\n",
    "# plt.plot(___,___)\n",
    "# ...\n",
    "\n",
    "###\n",
    "### Your code here\n",
    "###\n",
    "\n",
    "\n",
    "# A zero axis line is handy. \"ls\" is a shortcut for \"linestyle\" and \"lw\" is a shortcut for \"linewidth\"\n",
    "plt.axhline(0,color='grey', linestyle=':')\n",
    "\n",
    "answer_4_01_1 = np.copy(x)\n",
    "answer_4_01_2 = np.copy(y)"
   ]
  },
  {
   "cell_type": "code",
   "execution_count": null,
   "metadata": {
    "deletable": false,
    "editable": false
   },
   "outputs": [],
   "source": [
    "question = \"answer_4_01\"\n",
    "num = 2\n",
    "\n",
    "to_check = [question + \"_%d\" % (n+1) for n in range(num)]\n",
    "feedback = \"\"\n",
    "passed = True\n",
    "for var in to_check:\n",
    "    res, msg = check_answer(eval(var), var)\n",
    "    passed = passed and res\n",
    "    print(msg); feedback += msg + \"n\"\n",
    "\n",
    "assert passed == True, feedback"
   ]
  },
  {
   "cell_type": "markdown",
   "metadata": {
    "deletable": false,
    "editable": false
   },
   "source": [
    "**Self check:**\n",
    "\n",
    "* Does your plot have axis labels?\n",
    "* Does the function look reasonably like you might think?\n",
    "\n",
    "The function looks pretty reasonable: it starts going down, it crosses through zero, and then shoots up. It has some \"positive\" area above the x-axis, and in the middle, it has a little bit of \"negative\" area that decreases the value of the integral."
   ]
  },
  {
   "cell_type": "markdown",
   "metadata": {
    "deletable": false,
    "editable": false
   },
   "source": [
    "## The Trapezoidal Rule\n",
    "\n",
    "A simple method of calculating an integral is using the trapezoidal rule. \n",
    "\n",
    "**Exercise 2:** Write code to calculate the integral using the trapezoidal rule with $n = 11$ points in the range (10 \"steps\"). "
   ]
  },
  {
   "cell_type": "code",
   "execution_count": null,
   "metadata": {},
   "outputs": [],
   "source": [
    "###\n",
    "### Your code here\n",
    "###\n",
    "\n",
    "\n",
    "# Your answer should be stored in a variable trapezoidal_integral\n",
    "answer_4_02_1 = trapezoidal_integral"
   ]
  },
  {
   "cell_type": "code",
   "execution_count": null,
   "metadata": {
    "deletable": false,
    "editable": false
   },
   "outputs": [],
   "source": [
    "question = \"answer_4_02\"\n",
    "num = 1\n",
    "\n",
    "to_check = [question + \"_%d\" % (n+1) for n in range(num)]\n",
    "feedback = \"\"\n",
    "passed = True\n",
    "for var in to_check:\n",
    "    res, msg = check_answer(eval(var), var)\n",
    "    passed = passed and res\n",
    "    print(msg); feedback += msg + \"n\"\n",
    "\n",
    "assert passed == True, feedback"
   ]
  },
  {
   "cell_type": "markdown",
   "metadata": {
    "deletable": false,
    "editable": false
   },
   "source": [
    "Using the code, you can play with $n$ to see how many points we need to get a reasonable accuracy. \n"
   ]
  },
  {
   "cell_type": "markdown",
   "metadata": {
    "deletable": false,
    "editable": false
   },
   "source": [
    "## Benchmarking the Trapezoidal Rule\n",
    "\n",
    "In general, you will often be using your code to calculate an integral for which you do not know the answer. However, in this case, since we do know the answer, you can get a feeling for how accurate your code is by comparing your calculated value to the correct answer. \n",
    "\n",
    "This sort of \"benchmarking\" is an integral part of developing numerical simulation software. In particular, you can always find a way for your code to give you \"an answer\". But how can you trust that it is the correct answer? How do you know how much influence the approximations you have made have on the calculated result? \n",
    "\n",
    "For this, it is always a good idea to use your code to perform a calculation for a case where you know the answer. This will allow you to play around to see how to optimize your code to be more accurate (and also to find bugs!). Of course, getting an accurate answer for one type of calculation does not guarantee that your code will be accurate for all calculations, but by trying it out for different types of calculations, you can start to get a feeling for how it performs and build up some trust that it will give you an accurate answer. \n",
    "\n",
    "Here, we will explore such a \"benchmarking\" of the Trapezoidal rule for calculating integrals, and explore the number of steps needed to achieve a given accuracy. "
   ]
  },
  {
   "cell_type": "markdown",
   "metadata": {
    "deletable": false,
    "editable": false
   },
   "source": [
    "**Exercise 3:** Use a `while` loop to find the minimum value of $N$ you need to get the correct answer to <a href=https://en.wikipedia.org/wiki/Approximation_error#Formal_Definition>relative error</a> of less than $10^{-6}$ = one part per million (ppm).\n",
    "\n",
    "The definition of relative error is as follows: if $v$ is the correct answer and $v_{\\rm approx}$ is the approximate answer, the relative error $\\eta$ is defined as:\n",
    "\n",
    "\\begin{equation}\n",
    "\\eta = \\left| \\frac{v - v_{\\rm approx}}{v} \\right|\n",
    "\\end{equation}\n",
    "\n",
    "Your while loop should have an \"emergency exit\" test that stops the loop with a `break` statement if $N$ exceeds 10,000.\n",
    "\n",
    "_Tip:_ If you have trouble with your exit condition on your while loop, it might be handy to include a code line `print(\"N %d eta %e\" % (N,eta))` to keep track of what is going on in your code. This is an <a href=https://pythondebugging.com/articles/python-debugging-with-print-statements>elementary form</a> of <a href=https://en.wikipedia.org/wiki/Debugging>debugging</a>."
   ]
  },
  {
   "cell_type": "code",
   "execution_count": null,
   "metadata": {},
   "outputs": [],
   "source": [
    "###\n",
    "### Your code here\n",
    "###\n",
    "\n",
    "\n",
    "answer_4_03_1 = N\n",
    "answer_4_03_2 = integral\n",
    "answer_4_03_3 = eta"
   ]
  },
  {
   "cell_type": "code",
   "execution_count": null,
   "metadata": {
    "deletable": false,
    "editable": false
   },
   "outputs": [],
   "source": [
    "question = \"answer_4_03\"\n",
    "num = 3\n",
    "\n",
    "to_check = [question + \"_%d\" % (n+1) for n in range(num)]\n",
    "feedback = \"\"\n",
    "passed = True\n",
    "for var in to_check:\n",
    "    res, msg = check_answer(eval(var), var)\n",
    "    passed = passed and res\n",
    "    print(msg); feedback += msg + \"n\"\n",
    "\n",
    "assert passed == True, feedback"
   ]
  },
  {
   "cell_type": "markdown",
   "metadata": {
    "deletable": false,
    "editable": false
   },
   "source": [
    "## Simpson's Rule\n",
    "\n",
    "Simpson's rule is a numerical integration technique that replaces the linear approximation of the integrand in the trapizoidal technique with a a \"best estimate\" quadratic approximation.\n",
    "\n",
    "**Exercise 4:** Write code to implement Simpson's rule for the integral in section 1.1 using 11 points (10 steps). "
   ]
  },
  {
   "cell_type": "code",
   "execution_count": null,
   "metadata": {},
   "outputs": [],
   "source": [
    "# Write your Simpson's rule code here\n",
    "\n",
    "###\n",
    "### Your code here\n",
    "###\n",
    "\n",
    "\n",
    "print(\"Integral with Simpson's rule is %f\" % integral_simpson)\n",
    "\n",
    "answer_4_04_1 = integral_simpson"
   ]
  },
  {
   "cell_type": "code",
   "execution_count": null,
   "metadata": {
    "deletable": false,
    "editable": false
   },
   "outputs": [],
   "source": [
    "question = \"answer_4_04\"\n",
    "num = 1\n",
    "\n",
    "to_check = [question + \"_%d\" % (n+1) for n in range(num)]\n",
    "feedback = \"\"\n",
    "passed = True\n",
    "for var in to_check:\n",
    "    res, msg = check_answer(eval(var), var)\n",
    "    passed = passed and res\n",
    "    print(msg); feedback += msg + \"n\"\n",
    "\n",
    "assert passed == True, feedback"
   ]
  },
  {
   "cell_type": "markdown",
   "metadata": {
    "deletable": false,
    "editable": false
   },
   "source": [
    "Which technique (Simpson vs. Trapezoidal) is more accurate for the same number of points?"
   ]
  },
  {
   "cell_type": "markdown",
   "metadata": {
    "deletable": false,
    "editable": false
   },
   "source": [
    "## Integrating numerical data\n",
    "\n",
    "In the above, we have focussed on integrating analytical functions. However, the same techniques we have introduced can also be used to integrate numerical data. \n",
    "\n",
    "One difference, however, is that we will not evaluate the values of the integrand by a function call, as we did above, but instead by looking up it's value in an array. \n",
    "\n",
    "For this you will load data from a file `resource/asnlib/public/velocities.dat` included already on your notebook server. The file contains two columns of numbers, the first representing time $t$ in seconds and the second the $x$-velocity in meters per second of a particle, measured once every second from time $t=0$ to $t=100$ seconds.\n",
    "\n",
    "**Exercise 5:** Read in the data and, using the trapezoidal rule, calculate from them the approximate distance traveled by the particle in the $x$ direction as a function of time.  \n",
    "\n",
    "**Since this exercise is also about learning to program, you are forbidden from using built-in scipy or numpy functions!** \n",
    "\n",
    "_Hint_ This is a cumulative integral, a bit different than the definite integrals handled above. Your integral code should produce an array not a number! If f(t) is the function describing the velocity as a function of time, then the answer g(t) is given by:\n",
    "\n",
    "$$\n",
    "g(t) = \\int_0^t h(\\tau) d\\tau\n",
    "$$\n",
    "\n",
    "Every element in your output array is then conceptually defined by computing an integral from $\\tau=0$ to $\\tau = t$. \n",
    "\n",
    "(Of course, there may be cleaver and more computationally efficient ways to do it as well, but that is not the focus right now...)\n",
    "\n",
    "_Recommendation_ \"<a href=https://en.wikipedia.org/wiki/Modular_programming>Modularize</a>\" your code by creating a function that does the trapezoidal integration of an array, this will make your code easier to write and use. "
   ]
  },
  {
   "cell_type": "code",
   "execution_count": null,
   "metadata": {},
   "outputs": [],
   "source": [
    "# Download the resource files.\n",
    "import urllib\n",
    "urllib.request.urlretrieve(\"http://www-personal.umich.edu/~mejn/cp/data/velocities.txt\", \n",
    "                           filename=\"velocities.txt\")\n",
    "\n",
    "# Load the data\n",
    "###\n",
    "### Your code here\n",
    "###\n",
    "\n",
    "\n",
    "\n",
    "# A function for calculating the trapezoidal integral of an array:\n",
    "def trapezoid(x):\n",
    "    ###\n",
    "### Your code here\n",
    "###\n",
    "\n",
    "\n",
    "#y=[v[0],v[1]] \n",
    "#z=trapezoid(y)\n",
    "\n",
    " \n",
    "# Now calculate the cumulative integral: \n",
    "###\n",
    "### Your code here\n",
    "###\n",
    "\n",
    "\n",
    "\n",
    "\n",
    "answer_4_05_1 = np.copy(d)"
   ]
  },
  {
   "cell_type": "code",
   "execution_count": null,
   "metadata": {
    "deletable": false,
    "editable": false
   },
   "outputs": [],
   "source": [
    "question = \"answer_4_05\"\n",
    "num = 1\n",
    "\n",
    "to_check = [question + \"_%d\" % (n+1) for n in range(num)]\n",
    "feedback = \"\"\n",
    "passed = True\n",
    "for var in to_check:\n",
    "    res, msg = check_answer(eval(var), var)\n",
    "    passed = passed and res\n",
    "    print(msg); feedback += msg + \"n\"\n",
    "\n",
    "assert passed == True, feedback"
   ]
  },
  {
   "cell_type": "markdown",
   "metadata": {
    "deletable": false,
    "editable": false
   },
   "source": [
    "**Exercise 6:** Make a plot with velocity on the left-hand y-axis and distance travelled in the right-hand y-axis. \n",
    "\n",
    "To plot data with a second y-axis, you need a bit more matplotlib code:\n",
    "\n",
    "```\n",
    "# First, initialize your plot with the plt.subplots() command, which returns an axis object you will need\n",
    "fig, ax1 = plt.subplots()\n",
    "\n",
    "# You then use the twinx() function to make a second axis object with it's x-axis linked to the original x-axis\n",
    "ax2 = ax1.twinx()\n",
    "\n",
    "# Now you can use the plot() commands of each axis objects: ax.plot(...). \n",
    "ax1.plot(t,d, 'g-', label=\"d\")\n",
    "ax1.set_ylabel(\"my axis (my units)\", color='g')\n",
    "ax2.plot(...)\n",
    "```\n",
    "\n",
    "You can also use the `axhline()` command to add horizontal lines. For example, this will add a grey dashed horizontal line:\n",
    "\n",
    "```\n",
    "ax2.axhline(0, color='grey', linestyle=\":\")\n",
    "```\n"
   ]
  },
  {
   "cell_type": "code",
   "execution_count": null,
   "metadata": {},
   "outputs": [],
   "source": [
    "###\n",
    "### Your code here\n",
    "###\n",
    " "
   ]
  },
  {
   "cell_type": "markdown",
   "metadata": {
    "deletable": false,
    "editable": false
   },
   "source": [
    "**Self check:**\n",
    "\n",
    "* Does your plot have axis labels? \n",
    "* Are the correct functions plotted? \n",
    "* Is it clear which line belongs to which axis? (Either with a legend or with color axis labels? Or both?)\n"
   ]
  },
  {
   "cell_type": "markdown",
   "metadata": {
    "deletable": false,
    "editable": false
   },
   "source": [
    "## Numpy and Scipy integration functions\n",
    "\n",
    "Now that we have some understanding of how numerical integration works, it is also useful to note that there are several numpy functions that can calculate such integrals for you!\n",
    "\n",
    "**Simple sum:** \n",
    "\n",
    "https://docs.scipy.org/doc/numpy/reference/generated/numpy.sum.html\n",
    "\n",
    "**Trapezoidal rule:**\n",
    "\n",
    "https://docs.scipy.org/doc/numpy/reference/generated/numpy.trapz.html\n",
    "\n",
    "**Cumulative sum:**\n",
    "\n",
    "https://docs.scipy.org/doc/numpy/reference/generated/numpy.cumsum.html\n",
    "\n",
    "Numpy does not include Simpson's rule (since for small $h$ the trapezoidal rule is often accurate enough), but in case you want to use it, it is available in the scipy package:\n",
    "\n",
    "**Simpson's rule:**\n",
    "\n",
    "https://docs.scipy.org/doc/scipy/reference/generated/scipy.integrate.simps.html\n",
    "\n",
    "Because all of the functions above work with vectorization (see notebook 2b), they can be hundreds of times faster for very large arrays, so it is useful to use them for large calculations. "
   ]
  }
 ],
 "metadata": {},
 "nbformat": 4,
 "nbformat_minor": 2
}
